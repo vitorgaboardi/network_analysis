{
  "nbformat": 4,
  "nbformat_minor": 0,
  "metadata": {
    "colab": {
      "name": "Wikipedia.ipynb",
      "provenance": [],
      "collapsed_sections": [],
      "include_colab_link": true
    },
    "kernelspec": {
      "name": "python3",
      "display_name": "Python 3"
    },
    "language_info": {
      "name": "python"
    }
  },
  "cells": [
    {
      "cell_type": "markdown",
      "metadata": {
        "id": "view-in-github",
        "colab_type": "text"
      },
      "source": [
        "<a href=\"https://colab.research.google.com/github/vitorgaboardi/network_analysis/blob/main/Wikipedia.ipynb\" target=\"_parent\"><img src=\"https://colab.research.google.com/assets/colab-badge.svg\" alt=\"Open In Colab\"/></a>"
      ]
    },
    {
      "cell_type": "markdown",
      "metadata": {
        "id": "Tirw9HnrTuau"
      },
      "source": [
        "# 1.0 Case Study: constructing a network of wikipedia pages"
      ]
    },
    {
      "cell_type": "markdown",
      "metadata": {
        "id": "ryNuGuF5aK6t"
      },
      "source": [
        "## 1.1 Introduction"
      ]
    },
    {
      "cell_type": "markdown",
      "metadata": {
        "id": "K4U4cYABYxsK"
      },
      "source": [
        "So far we have learned two ways of constructing a complex network:\n",
        "- from a CSV file \n",
        "- manually\n",
        "\n",
        "What is hard for small networks may be impossible for medium-to-large scale networks; it may be impossible even for small networks if you must repeat the analysis many\n",
        "times. The case study in this lesson shows you **how to construct a large\n",
        "network in an easy way**:  \n",
        "- automatically collecting node and edge data from the Internet.\n",
        "\n",
        "The other goal of this study (aside from mastering new network construction\n",
        "techniques) is quite pragmatic. \n",
        "- Wouldn’t you want to know where the **complex\n",
        "network analysis** fits in the context of other subjects and disciplines? \n",
        "\n",
        "An answer to this question is near at hand: [on Wikipedia](https://en.wikipedia.org/wiki/Complex_network).\n",
        "\n",
        "\n",
        "Let’s start with the Wikipedia page about complex networks—the seed page.\n",
        "(Unfortunately, there is no page on complex network analysis itself.) The page\n",
        "body has external links and links to other Wikipedia pages. Those other pages\n",
        "presumably are somewhat related to complex networks, or else why would\n",
        "the Wikipedia editors provide them?\n",
        "To build a network out of the seed page and other relevant pages, **let’s treat\n",
        "the pages (and the respective Wikipedia subjects) as the network nodes and\n",
        "the links between the pages as the network edges**. You will use snowball\n",
        "sampling (a breadth-first search or [BFS algorithm](https://en.wikipedia.org/wiki/Breadth-first_search)) to discover all the nodes and edges of interest.\n",
        "\n",
        "<img width=\"200\" src=\"https://drive.google.com/uc?export=view&id=1t9ZXB5Q-wRt_qWbf8eU_1RiTwVGaStHU\">\n",
        "\n",
        "As a result, you will have a network of all pages related to complex networks\n",
        "and hopefully, you will make some conclusions about it."
      ]
    },
    {
      "cell_type": "markdown",
      "metadata": {
        "id": "JnNVv00Aalcx"
      },
      "source": [
        "## 1.2 Get the Data, Build the Network"
      ]
    },
    {
      "cell_type": "markdown",
      "metadata": {
        "id": "5DofZOgJa9Nf"
      },
      "source": [
        "The first half of the project script consists of:\n",
        "\n",
        "1. the initialization prologue\n",
        "2. a heavy-duty loop that retrieves the Wikipedia pages and simultaneously builds the network of nodes and edges.\n",
        "\n",
        "Let’s first import all necessary modules. We will need:\n",
        "\n",
        "- the module **wikipedia** for fetching and exploring Wikipedia pages\n",
        "- the operator **itemgetter** for sorting a list of tuples\n",
        "- and, naturally, **networkx** itself.\n",
        "\n",
        "To target the **snowballing process**, define the constant **SEED, the name of the\n",
        "starting page**. \n",
        "\n",
        "> As a side note, by changing the name of the seed page, you can\n",
        "apply this analysis to any other subject on Wikipedia.\n",
        "\n",
        "\n",
        "Last but not least, when you start the snowballing, you will eventually (and\n",
        "quite soon) bump into the pages describing ISBN and ISSN numbers, the\n",
        "arXiv, PubMed, and the like. Almost all other Wikipedia pages refer to one or\n",
        "more of those pages. This hyper-connectedness transforms any network into\n",
        "a collection of almost perfect gigantic stars, making all Wikipedia-based networks\n",
        "look similar. **To avoid the stardom syndrome**, treat the known “star”\n",
        "pages as stop words in information retrieval—in other words, ignore any links\n",
        "to them. \n",
        "\n",
        "Constructing the **black list of stop words**, STOPS, is a matter of trial\n",
        "and error. We put thirteen subjects on it; you may want to add more when you\n",
        "come across other “stars.” We also excluded pages whose names begin with\n",
        "**\"List of\"**, because they are simply lists of other subjects."
      ]
    },
    {
      "cell_type": "code",
      "metadata": {
        "id": "zyD6-e-34h5P",
        "colab": {
          "base_uri": "https://localhost:8080/"
        },
        "outputId": "13c9a2d6-8683-443b-aef5-48d0c3c24503"
      },
      "source": [
        "# always check the current version in github\n",
        "!pip install networkx==2.6.2"
      ],
      "execution_count": 1,
      "outputs": [
        {
          "output_type": "stream",
          "text": [
            "Requirement already satisfied: networkx==2.6.2 in /usr/local/lib/python3.7/dist-packages (2.6.2)\n"
          ],
          "name": "stdout"
        }
      ]
    },
    {
      "cell_type": "code",
      "metadata": {
        "id": "sQcOSXayXX1W",
        "colab": {
          "base_uri": "https://localhost:8080/"
        },
        "outputId": "42a6b520-4c43-4389-83e2-ddc8b71c3c24"
      },
      "source": [
        "!pip install wikipedia"
      ],
      "execution_count": 2,
      "outputs": [
        {
          "output_type": "stream",
          "text": [
            "Collecting wikipedia\n",
            "  Downloading wikipedia-1.4.0.tar.gz (27 kB)\n",
            "Requirement already satisfied: beautifulsoup4 in /usr/local/lib/python3.7/dist-packages (from wikipedia) (4.6.3)\n",
            "Requirement already satisfied: requests<3.0.0,>=2.0.0 in /usr/local/lib/python3.7/dist-packages (from wikipedia) (2.23.0)\n",
            "Requirement already satisfied: idna<3,>=2.5 in /usr/local/lib/python3.7/dist-packages (from requests<3.0.0,>=2.0.0->wikipedia) (2.10)\n",
            "Requirement already satisfied: urllib3!=1.25.0,!=1.25.1,<1.26,>=1.21.1 in /usr/local/lib/python3.7/dist-packages (from requests<3.0.0,>=2.0.0->wikipedia) (1.24.3)\n",
            "Requirement already satisfied: certifi>=2017.4.17 in /usr/local/lib/python3.7/dist-packages (from requests<3.0.0,>=2.0.0->wikipedia) (2021.5.30)\n",
            "Requirement already satisfied: chardet<4,>=3.0.2 in /usr/local/lib/python3.7/dist-packages (from requests<3.0.0,>=2.0.0->wikipedia) (3.0.4)\n",
            "Building wheels for collected packages: wikipedia\n",
            "  Building wheel for wikipedia (setup.py) ... \u001b[?25l\u001b[?25hdone\n",
            "  Created wheel for wikipedia: filename=wikipedia-1.4.0-py3-none-any.whl size=11696 sha256=7467463c1840bd570f875a3e3daf19b8f4ec2492795dceb00e20ebb446fdbd3e\n",
            "  Stored in directory: /root/.cache/pip/wheels/15/93/6d/5b2c68b8a64c7a7a04947b4ed6d89fb557dcc6bc27d1d7f3ba\n",
            "Successfully built wikipedia\n",
            "Installing collected packages: wikipedia\n",
            "Successfully installed wikipedia-1.4.0\n"
          ],
          "name": "stdout"
        }
      ]
    },
    {
      "cell_type": "code",
      "metadata": {
        "id": "MINWDN4gTzAC"
      },
      "source": [
        "from operator import itemgetter\n",
        "import networkx as nx\n",
        "import wikipedia\n",
        "import matplotlib.pyplot as plt"
      ],
      "execution_count": 3,
      "outputs": []
    },
    {
      "cell_type": "code",
      "metadata": {
        "id": "lVqdt1994G2J",
        "colab": {
          "base_uri": "https://localhost:8080/",
          "height": 35
        },
        "outputId": "61b20a23-8075-4bff-8a65-1d01a201cc5a"
      },
      "source": [
        "nx.__version__"
      ],
      "execution_count": 4,
      "outputs": [
        {
          "output_type": "execute_result",
          "data": {
            "application/vnd.google.colaboratory.intrinsic+json": {
              "type": "string"
            },
            "text/plain": [
              "'2.6.2'"
            ]
          },
          "metadata": {},
          "execution_count": 4
        }
      ]
    },
    {
      "cell_type": "code",
      "metadata": {
        "id": "YPTw8l5iT7z9"
      },
      "source": [
        "#https://en.wikipedia.org/wiki/Complex_network\n",
        "SEED = \"Tourism in Brazil\".title()\n",
        "STOPS = (\"International Standard Serial Number\",\n",
        "         \"International Standard Book Number\",\n",
        "         \"National Diet Library\",\n",
        "         \"International Standard Name Identifier\",\n",
        "         \"International Standard Book Number (Identifier)\",\n",
        "         \"Pubmed Identifier\", \n",
        "         \"Pubmed Central\",\n",
        "         \"Digital Object Identifier\", \n",
        "         \"Arxiv\",\n",
        "         \"Proc Natl Acad Sci Usa\", \n",
        "         \"Bibcode\",\n",
        "         \"Library Of Congress Control Number\", \n",
        "         \"Jstor\",\n",
        "         \"Doi (Identifier)\",\n",
        "         \"Isbn (Identifier)\",\n",
        "         \"Pmid (Identifier)\",\n",
        "         \"Arxiv (Identifier)\",\n",
        "         \"Bibcode (Identifier)\",\n",
        "         \"Saint Pierre Et Miquelon\")"
      ],
      "execution_count": 5,
      "outputs": []
    },
    {
      "cell_type": "markdown",
      "metadata": {
        "id": "ChlfDfm7YQNY"
      },
      "source": [
        "The next code fragment deals with setting up the **snowballing process**. A\n",
        "breadth-first search, or BFS (sometimes known to computer programmers\n",
        "as a snowballing algorithm), must remember which **pages have been already\n",
        "processed** and which have been **discovered but not yet processed**. \n",
        "- the former are stored in the set **done_set**; \n",
        "- the latter, in the list **todo_lst** and **todo_set**. \n",
        "\n",
        "You need two data structures for the unprocessed pages because you want to\n",
        "know whether a page has been already recorded (an unordered lookup, *todo_set*) and\n",
        "which page is the next to be processed (an ordered lookup, *todo_lst*). \n",
        "\n",
        "\n",
        "Snowballing an extensive network—and Wikipedia with 6,196,713 articles in\n",
        "the English segment alone can produce a huge network!—takes considerable\n",
        "time.\n",
        "\n",
        "<img width=\"300\" src=\"https://drive.google.com/uc?export=view&id=1cOpkuhQEHJ3UxQOP3hoCd3KzSlqyf1AG\">\n",
        "\n",
        "Suppose you start with one seed node, and let’s say it has $N\\approx 100$ neighbors.\n",
        "Each of them has $N$ neighbors, too, to the total of $\\approx N+N×N$ nodes. The\n",
        "third round of discovery adds $\\approx N×N×N$ more nodes. The time to shave each\n",
        "next layer of nodes grows exponentially. For this exercise, let’s process only\n",
        "the seed node itself and its immediate neighbors (layers 0 and 1). Processing\n",
        "layer 2 is still feasible, but layer 3 requires $N×N×N×N\\approx 10^8$ page downloads. To keep track of the distance from the currently processed node to the seed, store both the layer to which a node belongs and the node name together as a tuple on the **todo_lst** list."
      ]
    },
    {
      "cell_type": "code",
      "metadata": {
        "id": "sy1gJQxwYdNi"
      },
      "source": [
        "todo_lst = [(0, SEED)] # The SEED is in the layer 0\n",
        "todo_set = set(SEED) # The SEED itself\n",
        "done_set = set() # Nothing is done yet"
      ],
      "execution_count": 6,
      "outputs": []
    },
    {
      "cell_type": "code",
      "metadata": {
        "id": "z04Y-it9g5OR"
      },
      "source": [
        "g = nx.DiGraph()\n",
        "layer, page = todo_lst[0]"
      ],
      "execution_count": 7,
      "outputs": []
    },
    {
      "cell_type": "code",
      "metadata": {
        "id": "ucGHcQ4-hP4V",
        "colab": {
          "base_uri": "https://localhost:8080/"
        },
        "outputId": "1b47587f-7d13-4581-d3f5-1e67dbf43827"
      },
      "source": [
        "%%time\n",
        "while layer < 2:\n",
        "  # Remove the name page of the current page from the todo_lst, \n",
        "  # and add it to the set of processed pages. \n",
        "  # If the script encounters this page again, it will skip over it.\n",
        "  del todo_lst[0]\n",
        "  done_set.add(page)\n",
        "  \n",
        "  # Show progress\n",
        "  print(layer, page) \n",
        "  \n",
        "  # Attempt to download the selected page.\n",
        "  try:\n",
        "    wiki = wikipedia.page(page)\n",
        "  except:\n",
        "    layer, page = todo_lst[0]\n",
        "    print(\"Could not load\", page)\n",
        "    continue\n",
        "  \n",
        "  for link in wiki.links:\n",
        "    link = link.title()\n",
        "    if link not in STOPS and not link.startswith(\"List Of\"):\n",
        "      if link not in todo_set and link not in done_set:\n",
        "        todo_lst.append((layer + 1, link))\n",
        "        todo_set.add(link)\n",
        "      g.add_edge(page, link)\n",
        "  layer, page = todo_lst[0]"
      ],
      "execution_count": 8,
      "outputs": [
        {
          "output_type": "stream",
          "text": [
            "0 Tourism In Brazil\n",
            "1 2007–10 Recession In South America\n",
            "1 2014 Brazilian Economic Crisis\n",
            "1 Abrolhos Marine National Park\n",
            "1 Academic\n",
            "1 Academic Conference\n",
            "1 Acre (State)\n",
            "1 Administrative Divisions Of Brazil\n",
            "1 Adventure Travel\n",
            "1 Agriculture In Brazil\n",
            "1 Alagoas\n",
            "1 Alcântara, Maranhão\n",
            "1 Alta Floresta\n",
            "1 Amapá\n",
            "1 Amazon Rainforest\n",
            "1 Amazon Basin\n",
            "1 Amazonas (Brazilian State)\n",
            "1 American Dollar\n",
            "1 Americana, São Paulo\n",
            "1 Anchieta, Espírito Santo\n",
            "1 Andorra\n",
            "1 Angra Dos Reis\n",
            "1 Animal Husbandry In Brazil\n",
            "1 Antonina, Paraná\n",
            "1 Aparados Da Serra National Park\n",
            "1 Aquidauana\n",
            "1 Aracaju\n",
            "1 Aracati\n",
            "1 Araguaia River\n",
            "1 Araraquara\n",
            "1 Araras\n"
          ],
          "name": "stdout"
        },
        {
          "output_type": "stream",
          "text": [
            "/usr/local/lib/python3.7/dist-packages/wikipedia/wikipedia.py:389: UserWarning: No parser was explicitly specified, so I'm using the best available HTML parser for this system (\"lxml\"). This usually isn't a problem, but if you run this code on another system, or in a different virtual environment, it may use a different parser and behave differently.\n",
            "\n",
            "The code that caused this warning is on line 389 of the file /usr/local/lib/python3.7/dist-packages/wikipedia/wikipedia.py. To get rid of this warning, pass the additional argument 'features=\"lxml\"' to the BeautifulSoup constructor.\n",
            "\n",
            "  lis = BeautifulSoup(html).find_all('li')\n"
          ],
          "name": "stderr"
        },
        {
          "output_type": "stream",
          "text": [
            "Could not load Araxá\n",
            "1 Araxá\n",
            "1 Araçatuba\n",
            "1 Argentina\n",
            "1 Argentina–Brazil Relations\n",
            "1 Aripuanã River\n",
            "1 Armação Dos Búzios\n",
            "1 Arraial D'Ajuda\n",
            "1 Arraial Do Cabo\n",
            "1 Artistic\n",
            "1 Asia\n",
            "1 Assis Brasil\n",
            "1 Atibaia\n",
            "1 Australia\n",
            "1 Austria\n",
            "1 Automotive Industry In Brazil\n",
            "1 B3 (Stock Exchange)\n",
            "1 Br-287\n",
            "1 Bahamas\n",
            "1 Bahia\n",
            "1 Balneário Camboriú\n",
            "1 Banana Production In Brazil\n",
            "1 Bananal Island\n",
            "1 Barbados\n",
            "1 Barra De São Miguel, Alagoas\n",
            "1 Barra Do Garças\n",
            "1 Barretos\n",
            "1 Barão De Melgaço\n",
            "1 Baturité\n",
            "1 Baía Da Traição\n",
            "1 Beer In Brazil\n",
            "1 Belarus\n",
            "1 Belgium\n",
            "1 Belo Horizonte\n",
            "1 Belém\n",
            "Could not load Bibliography Of Brazil\n",
            "1 Bibliography Of Brazil\n",
            "1 Birigüi\n",
            "1 Blumenau\n",
            "1 Boa Vista, Roraima\n",
            "1 Boiçucanga\n",
            "1 Bolivia\n",
            "1 Bolsa Família\n",
            "1 Bombinhas\n",
            "1 Bonito, Mato Grosso Do Sul\n",
            "1 Botucatu\n",
            "1 Bragança Paulista\n",
            "1 Brasiléia\n",
            "1 Brasília\n",
            "Could not load Brazil\n",
            "1 Brazil\n",
            "1 Brazil Cost\n",
            "1 Brazilian Antarctica\n",
            "1 Brazilian Armed Forces\n",
            "1 Brazilian Carnival\n",
            "Could not load Brazilian Gold Rush\n",
            "1 Brazilian Gold Rush\n",
            "1 Brazilian Miracle\n",
            "1 Brazilian Art\n",
            "1 Brazilian Comics\n",
            "1 Brazilian Cuisine\n",
            "1 Brazilian Disease\n",
            "1 Brazilian Literature\n",
            "1 Brazilian Mythology\n",
            "1 Brazilian Painting\n",
            "1 Brazilian Real\n",
            "1 Brazilian Science Fiction\n",
            "1 Brazilian Sculpture\n",
            "1 Brazilian Wine\n",
            "Could not load Brazilians\n",
            "1 Brazilians\n",
            "1 Bulgaria\n",
            "1 Cabedelo\n",
            "1 Cabo Frio\n",
            "1 Cachoeira\n",
            "1 Caicó\n",
            "1 Cairu\n",
            "1 Caldas Novas\n",
            "1 Camelô\n",
            "1 Camocim\n",
            "1 Campina Grande\n",
            "1 Campinas\n",
            "1 Campo Grande\n",
            "1 Campos Do Jordão\n",
            "1 Canada\n",
            "1 Cananéia\n",
            "1 Canela, Rio Grande Do Sul\n",
            "1 Canoa Quebrada\n",
            "1 Caparaó National Park\n",
            "1 Cape São Roque\n",
            "1 Caribbean\n",
            "1 Carolina (Maranhão)\n",
            "1 Caruaru\n",
            "1 Caxambu\n",
            "1 Ceará\n",
            "1 Center-West Region, Brazil\n",
            "1 Central-West Region, Brazil\n",
            "1 Central Bank Of Brazil\n",
            "1 Chapada Diamantina\n",
            "1 Chapada Diamantina National Park\n",
            "1 Chapada Dos Guimarães National Park\n",
            "1 Chapada Dos Veadeiros National Park\n",
            "1 Chile\n",
            "1 China\n",
            "1 Cinema Of Brazil\n",
            "1 Cingapura Project\n",
            "1 Citizen\n",
            "1 Climate Of Brazil\n",
            "1 Coastline Of Brazil\n",
            "1 Coffee Production In Brazil\n",
            "1 Colombia\n",
            "Could not load Colonial Brazil\n",
            "1 Colonial Brazil\n",
            "1 Competition\n",
            "1 Congonhas\n",
            "1 Constitution Of Brazil\n",
            "1 Corruption In Brazil\n",
            "1 Corumbá\n",
            "1 Costa Rica\n",
            "1 Coxim\n",
            "1 Crime In Brazil\n",
            "1 Croatia\n",
            "1 Cuba\n",
            "1 Cuiabá\n",
            "1 Cultural Tourism\n",
            "1 Culture Of Brazil\n",
            "1 Curitiba\n",
            "1 Czech Republic\n",
            "1 Cáceres, Mato Grosso\n",
            "1 Demographics Of Brazil\n",
            "1 Denmark\n",
            "1 Dependent Territory\n",
            "1 Diamantina, Minas Gerais\n",
            "1 Domingos Martins\n",
            "1 Dominican Republic\n",
            "1 Dune\n",
            "Could not load Economic History Of Brazil\n",
            "1 Economic History Of Brazil\n",
            "1 Economy Of Brazil\n",
            "1 Economy Of The Empire Of Brazil\n",
            "1 Ecotourism\n",
            "1 Ecotourism In The Amazon Rainforest\n",
            "1 Ecuador\n",
            "1 Education In Brazil\n",
            "1 Elections In Brazil\n",
            "1 Electricity Sector In Brazil\n",
            "1 Eletrobras\n",
            "1 Emas National Park\n",
            "1 Embratur\n",
            "1 Empire Of Brazil\n",
            "1 Energy Policy Of Brazil\n",
            "1 Espírito Santo\n",
            "1 Estância, Sergipe\n",
            "1 Ethanol Fuel In Brazil\n",
            "1 Europe\n",
            "1 Fazenda\n",
            "1 Federal District (Brazil)\n",
            "1 Federal Government Of Brazil\n",
            "1 Fernando De Noronha\n",
            "1 Finland\n",
            "1 First Brazilian Republic\n",
            "1 Florianópolis\n",
            "1 Fome Zero\n",
            "1 Foreign Exchange Market\n",
            "1 Foreign Relations Of Brazil\n",
            "1 Fortaleza\n",
            "1 Fourth Brazilian Republic\n",
            "1 Foz Do Iguaçu\n",
            "1 France\n",
            "1 Friend\n",
            "1 Gdp\n",
            "Could not load Galinhos\n",
            "1 Galinhos\n",
            "1 Garanhuns\n",
            "1 Geography Of Brazil\n",
            "1 Geology Of Brazil\n",
            "1 Germany\n",
            "1 Goiás\n",
            "1 Goiás, Goiás\n",
            "1 Goiânia\n",
            "1 Governance Of Brazil\n",
            "1 Government Of Brazil\n",
            "1 Gramado\n",
            "1 Greece\n",
            "1 Guajará-Mirim\n",
            "1 Guaporé, Rio Grande Do Sul\n",
            "1 Guarapari\n",
            "1 Guararema\n",
            "1 Guaratuba\n",
            "1 Guarujá\n",
            "1 Guatemala\n",
            "1 Guyana\n",
            "Could not load Health In Brazil\n",
            "1 Health In Brazil\n",
            "1 Highway Of Dinosaurs\n",
            "1 History\n",
            "1 History Of Brazil\n",
            "1 History Of Brazil Since 1985\n",
            "1 History Of Brazilian Animation\n",
            "1 History Of Ethanol Fuel In Brazil\n",
            "1 Hong Kong\n",
            "Could not load Human Rights In Brazil\n",
            "1 Human Rights In Brazil\n",
            "1 Hungary\n",
            "1 Iceland\n",
            "1 Igarassu, Pernambuco\n",
            "1 Iguape\n",
            "1 Iguazu Falls\n",
            "1 Ilha Grande\n",
            "1 Ilha Do Mel State Park\n",
            "1 Ilhabela, São Paulo\n",
            "1 Ilhéus\n",
            "1 Immigration To Brazil\n",
            "1 Imperatriz\n",
            "1 Income Inequality In Brazil\n",
            "1 Index Of Brazil-Related Articles\n",
            "1 Index Of Brazil–Related Articles\n",
            "1 India\n",
            "Could not load Indigenous Peoples In Brazil\n",
            "1 Indigenous Peoples In Brazil\n",
            "1 Industry In Brazil\n",
            "1 Infrastructure Of Brazil\n",
            "1 Ingá Stone\n",
            "1 International Tourism\n",
            "1 Ipojuca\n",
            "1 Ireland\n",
            "1 Irrigation In Brazil\n",
            "1 Israel\n",
            "1 Itacaré\n",
            "1 Itajaí\n",
            "1 Italy\n",
            "Could not load Itamaracá\n",
            "1 Itamaracá\n",
            "1 Itapema\n",
            "1 Itatiaia National Park\n",
            "1 Itu, Brazil\n",
            "1 Jamaica\n",
            "1 Japan\n",
            "1 Jardim, Mato Grosso Do Sul\n",
            "1 Jaú\n",
            "1 Jijoca De Jericoacoara\n",
            "1 Joinville\n",
            "1 João Pessoa, Paraíba\n",
            "1 Juazeiro Do Norte\n",
            "1 Judiciary Of Brazil\n",
            "1 Kinship\n",
            "1 Languages Of Brazil\n",
            "1 Laranjeiras, Sergipe\n",
            "1 Late-2000S Recession\n",
            "1 Latin America\n",
            "1 Lavras\n",
            "1 Law Enforcement In Brazil\n",
            "1 Law Of Brazil\n",
            "1 Lecturer\n",
            "1 Leisure\n",
            "1 Lençóis\n",
            "1 Lençóis Maranhenses National Park\n",
            "1 Liechtenstein\n",
            "1 Lithuania\n",
            "1 Luxembourg\n",
            "1 Macapá\n",
            "1 Macau\n",
            "1 Macau (Rio Grande Do Norte)\n",
            "1 Maceió\n",
            "1 Malandragem\n",
            "1 Malaysia\n",
            "1 Malta\n",
            "1 Mamirauá\n",
            "1 Mamirauá Sustainable Development Reserve\n",
            "1 Manaus\n",
            "Could not load Maragogi\n",
            "1 Maragogi\n",
            "1 Marajó\n",
            "1 Maranhão\n",
            "1 Marataízes\n",
            "1 Mariana, Minas Gerais\n",
            "1 Martins, Rio Grande Do Norte\n",
            "1 Mato Grosso\n",
            "1 Mato Grosso Do Sul\n",
            "1 Maxaranguape\n",
            "1 Meeting\n",
            "1 Metropolitan Porto Alegre\n",
            "1 Mexico\n",
            "1 Military Dictatorship In Brazil\n",
            "1 Military Of Brazil\n",
            "1 Minas Gerais\n",
            "1 Mining In Brazil\n",
            "1 Ministry Of Tourism (Brazil)\n",
            "1 Monaco\n",
            "Could not load Monte Roraima\n",
            "1 Monte Roraima\n",
            "1 Morretes\n",
            "1 Morro De São Paulo\n",
            "1 Mossoró\n",
            "1 Music Of Brazil\n",
            "1 Namibia\n",
            "1 Natal, Brazil\n",
            "1 Natal, Rio Grande Do Norte\n",
            "1 National Congress Of Brazil\n",
            "1 National Symbols Of Brazil\n",
            "1 Natividade, Tocantins\n",
            "1 Netherlands\n",
            "1 New Jerusalem Theater\n",
            "1 New Zealand\n",
            "1 North America\n",
            "Could not load North Region, Brazil\n",
            "1 North Region, Brazil\n",
            "1 Northeast Region, Brazil\n",
            "1 Norway\n",
            "Could not load Nova Friburgo\n",
            "1 Nova Friburgo\n",
            "1 O Globo\n",
            "1 Oiapoque\n",
            "1 Olinda\n",
            "1 Orange Production In Brazil\n",
            "1 Ouro Preto\n",
            "1 Outline Of Brazil\n",
            "1 Palaeobotanical Garden In Mata\n",
            "1 Paleontological Sites Of Santa Maria\n",
            "1 Paleorrota Geopark\n",
            "1 Palmas, Tocantins\n",
            "1 Panama\n",
            "Could not load Pangaea\n",
            "1 Pangaea\n",
            "1 Pantanal\n",
            "1 Paraguay\n",
            "1 Paranaguá\n",
            "1 Paraná (State)\n",
            "1 Paraty\n",
            "Could not load Paraíba\n",
            "1 Paraíba\n",
            "1 Parintins\n",
            "1 Paripueira\n",
            "1 Parnamirim\n",
            "1 Parnaíba\n",
            "1 Pará\n",
            "1 Penedo\n",
            "1 Permian\n",
            "1 Pernambuco\n",
            "1 Peru\n",
            "Could not load Petrobras\n",
            "1 Petrobras\n",
            "1 Petrolina\n",
            "1 Petrópolis\n",
            "1 Philippines\n",
            "1 Piauí\n",
            "1 Pico Da Bandeira\n",
            "1 Pirenópolis\n",
            "1 Piúma, Espírito Santo\n",
            "1 Plano Collor\n",
            "1 Plano Trienal\n",
            "1 Poconé\n",
            "1 Poland\n",
            "1 Politics Of Brazil\n",
            "1 Ponta Porã\n",
            "1 Porto Alegre\n",
            "1 Porto Seguro\n",
            "1 Porto Velho\n",
            "1 Porto De Galinhas\n",
            "1 Porto De Pedras\n",
            "1 Portugal\n",
            "Could not load Poá\n",
            "1 Poá\n",
            "1 President Of Brazil\n",
            "1 Propriá\n",
            "1 Protected Areas Of Brazil\n",
            "1 Public Holidays In Brazil\n",
            "1 Qatar\n",
            "Could not load Recife\n",
            "1 Recife\n",
            "1 Recreation\n",
            "1 Regions Of Brazil\n",
            "1 Religion In Brazil\n",
            "1 Renewable Energy In Brazil\n",
            "1 Resende, Rio De Janeiro\n",
            "1 Ribeirão Preto\n",
            "1 Rio Branco, Acre\n",
            "1 Rio Grande Do Norte\n",
            "1 Rio Grande Do Sul\n",
            "1 Rio De Janeiro\n",
            "1 Rio De Janeiro (State)\n",
            "1 Romania\n",
            "Could not load Rondônia\n",
            "1 Rondônia\n",
            "1 Roraima\n",
            "1 Rubber Boom\n",
            "1 Russia\n",
            "1 Sabará\n",
            "1 Salvador, Bahia\n",
            "1 Samba Effect\n",
            "1 San Marino\n",
            "Could not load Santa Catarina (State)\n",
            "1 Santa Catarina (State)\n",
            "1 Santa Catarina Island\n",
            "Could not load Santa Teresa, Espírito Santo\n",
            "1 Santa Teresa, Espírito Santo\n",
            "1 Santarém, Brazil\n",
            "1 Santos (São Paulo)\n",
            "1 Saquarema\n",
            "1 Science And Technology In Brazil\n",
            "1 Scientific\n",
            "1 Seminar\n",
            "1 Sergipe\n",
            "1 Serra Gaúcha\n",
            "1 Serra Da Capivara National Park\n",
            "1 Serra Do Cipó National Park\n",
            "1 Serra Dos Órgãos\n",
            "1 Sete Cidades National Park\n",
            "1 Singapore\n",
            "1 Slovakia\n",
            "1 Slovenia\n",
            "1 Sobral, Ceará\n",
            "1 Social Issues In Brazil\n",
            "1 Solar Power In Brazil\n",
            "1 Sorocaba\n",
            "1 Sousa, Paraíba\n",
            "1 South Africa\n",
            "1 South America\n",
            "1 South Korea\n",
            "1 Southeast Region, Brazil\n",
            "1 Southern Region, Brazil\n",
            "1 Spain\n",
            "Could not load Sport In Brazil\n",
            "1 Sport In Brazil\n",
            "1 Square Kilometre\n",
            "1 States Of Brazil\n",
            "1 Superagui National Park\n",
            "1 Surinam\n",
            "1 Sweden\n",
            "1 Switzerland\n",
            "1 São Cristóvão\n",
            "1 São José Dos Campos\n",
            "1 São João Del Rei\n",
            "1 São Lourenço, Minas Gerais\n",
            "1 São Luís, Maranhão\n",
            "1 São Miguel Do Gostoso\n",
            "1 São Paulo\n",
            "1 São Paulo (State)\n",
            "1 São Sebastião, São Paulo\n",
            "1 São Thomé Das Letras\n",
            "1 São Vicente, São Paulo\n",
            "1 Tangará Da Serra\n",
            "1 Tatajuba\n",
            "1 Taxation In Brazil\n",
            "1 Tefé\n",
            "1 Telecommunications In Brazil\n",
            "1 Television In Brazil\n",
            "1 Teresina\n",
            "Could not load Teresópolis\n",
            "1 Teresópolis\n",
            "1 Thailand\n",
            "1 The Americas\n",
            "1 Tibau\n",
            "1 Tibau Do Sul\n",
            "1 Time In Brazil\n",
            "1 Timeline Of Brazilian Economic Stabilization Plans\n",
            "1 Timeline Of Brazilian History\n",
            "1 Tiradentes, Minas Gerais\n",
            "1 Tocantins (State)\n",
            "1 Torres, Rio Grande Do Sul\n",
            "1 Tourism In Argentina\n",
            "1 Tourism In Bolivia\n",
            "1 Tourism In Chile\n",
            "1 Tourism In Colombia\n",
            "1 Tourism In Ecuador\n",
            "1 Tourism In French Guiana\n",
            "1 Tourism In Guyana\n",
            "1 Tourism In Paraguay\n",
            "1 Tourism In Peru\n",
            "1 Tourism In South Georgia And The South Sandwich Islands\n",
            "1 Tourism In Suriname\n",
            "1 Tourism In Uruguay\n",
            "1 Tourism In Venezuela\n",
            "1 Tourism In The Falkland Islands\n",
            "1 Tourist\n",
            "1 Touros\n",
            "1 Trancoso, Bahia\n",
            "1 Transport In Brazil\n",
            "1 Travel And Tourism Competitiveness Report\n",
            "1 Triassic\n",
            "1 Trinidad And Tobago\n",
            "1 Tripadvisor\n",
            "1 Triunfo, Pernambuco\n",
            "1 Turkey\n",
            "1 Usd\n",
            "Could not load Ubajara National Park\n",
            "1 Ubajara National Park\n",
            "1 Ukraine\n",
            "1 Unemployment In Brazil\n",
            "1 United Kingdom\n",
            "1 United Kingdom Of Portugal, Brazil And The Algarves\n",
            "1 United States\n",
            "1 Universidade De Brasília\n",
            "1 Uruguay\n",
            "1 Vale (Mining Company)\n",
            "1 Vale Do Catimbau National Park\n",
            "1 Vargas Era\n",
            "1 Vassouras\n",
            "1 Vatican City\n",
            "1 Venezuela\n",
            "1 Vila Velha, Brazil\n",
            "1 Visa (Document)\n",
            "1 Visa Policy Of Brazil\n",
            "1 Visconde De Mauá\n",
            "1 Vitória, Brazil\n",
            "1 Water Resources Management In Brazil\n",
            "1 Water Supply And Sanitation In Brazil\n",
            "1 Wildlife Of Brazil\n",
            "1 World Economic Forum\n",
            "Could not load World Heritage Site\n",
            "1 World Heritage Site\n",
            "Could not load World Tourism Organization\n",
            "1 World Tourism Organization\n",
            "1 Xapuri\n",
            "1 Youth In Brazil\n",
            "1 Índice Bovespa\n",
            "CPU times: user 32.6 s, sys: 2.25 s, total: 34.8 s\n",
            "Wall time: 7min 12s\n"
          ],
          "name": "stdout"
        }
      ]
    },
    {
      "cell_type": "code",
      "metadata": {
        "id": "JrtewM_hPqJa",
        "colab": {
          "base_uri": "https://localhost:8080/"
        },
        "outputId": "4ef9d58d-fcef-4e4a-a51e-d96551a6af2a"
      },
      "source": [
        "print(\"{} nodes, {} edges\".format(len(g), nx.number_of_edges(g)))"
      ],
      "execution_count": 9,
      "outputs": [
        {
          "output_type": "stream",
          "text": [
            "86652 nodes, 221562 edges\n"
          ],
          "name": "stdout"
        }
      ]
    },
    {
      "cell_type": "markdown",
      "metadata": {
        "id": "LMX9A1-Nh-8B"
      },
      "source": [
        "The network of interest is now in the variable g. But it is “dirty”: inaccurate, incomplete, and erroneous."
      ]
    },
    {
      "cell_type": "markdown",
      "metadata": {
        "id": "qS911QoZMzb7"
      },
      "source": [
        "## 1.3 Eliminate Duplicates"
      ]
    },
    {
      "cell_type": "code",
      "metadata": {
        "id": "8VkbRjFcBQaX"
      },
      "source": [
        "# make a copy of raw graph\n",
        "original = g.copy()"
      ],
      "execution_count": 10,
      "outputs": []
    },
    {
      "cell_type": "code",
      "metadata": {
        "id": "UFrNIuluN1__",
        "colab": {
          "base_uri": "https://localhost:8080/"
        },
        "outputId": "97e96431-805b-4da5-eb5c-049047dd8164"
      },
      "source": [
        "# remove self loops\n",
        "g.remove_edges_from(nx.selfloop_edges(g))\n",
        "\n",
        "# identify duplicates like that: 'network' and 'networks'\n",
        "duplicates = [(node, node + \"s\") \n",
        "              for node in g if node + \"s\" in g\n",
        "             ]\n",
        "\n",
        "for dup in duplicates:\n",
        "  # *dup is a technique named 'unpacking'\n",
        "  g = nx.contracted_nodes(g, *dup, self_loops=False)\n",
        "\n",
        "print(duplicates)\n",
        "\n",
        "duplicates = [(x, y) for x, y in \n",
        "              [(node, node.replace(\"-\", \" \")) for node in g]\n",
        "                if x != y and y in g]\n",
        "print(duplicates)\n",
        "\n",
        "for dup in duplicates:\n",
        "  g = nx.contracted_nodes(g, *dup, self_loops=False)\n",
        "\n",
        "# nx.contracted creates a new node/edge attribute called contraction\n",
        "# the value of the attribute is a dictionary, but GraphML\n",
        "# does not support dictionary attributes\n",
        "nx.set_node_attributes(g, 0,\"contraction\")\n",
        "nx.set_edge_attributes(g, 0,\"contraction\")"
      ],
      "execution_count": 11,
      "outputs": [
        {
          "output_type": "stream",
          "text": [
            "[('China', 'Chinas'), ('Dune', 'Dunes'), ('Friend', 'Friends'), ('World Heritage Site', 'World Heritage Sites'), ('Raw Material', 'Raw Materials'), ('Elementary School', 'Elementary Schools'), ('Elephant', 'Elephants'), ('Guild', 'Guilds'), (\"Master'S Degree\", \"Master'S Degrees\"), ('Modena', 'Modenas'), ('Primary School', 'Primary Schools'), ('Saint', 'Saints'), ('Secondary School', 'Secondary Schools'), ('Afro-Brazilian', 'Afro-Brazilians'), ('Asian Brazilian', 'Asian Brazilians'), ('Biome', 'Biomes'), ('Inca', 'Incas'), ('Latitude', 'Latitudes'), ('Ordinal Direction', 'Ordinal Directions'), ('Plantation', 'Plantations'), ('Plateau', 'Plateaus'), ('Rainforest', 'Rainforests'), ('Rubber Tree', 'Rubber Trees'), ('Temperature', 'Temperatures'), ('Time Zone', 'Time Zones'), ('White Brazilian', 'White Brazilians'), ('Metropolitan Area', 'Metropolitan Areas'), ('Sovereign State', 'Sovereign States'), ('Hostel', 'Hostels'), ('Passport', 'Passports'), ('Ski Resort', 'Ski Resorts'), ('Souvenir', 'Souvenirs'), ('Banana', 'Bananas'), ('Bean', 'Beans'), ('Brazil Nut', 'Brazil Nuts'), ('Cashew', 'Cashews'), ('Coconut', 'Coconuts'), ('Drought', 'Droughts'), ('Fertilizer', 'Fertilizers'), ('Grape', 'Grapes'), ('Mango', 'Mangos'), ('Oat', 'Oats'), ('Onion', 'Onions'), ('Papaya', 'Papayas'), ('Pea', 'Peas'), ('Pine Nut', 'Pine Nuts'), ('Pineapple', 'Pineapples'), ('Soybean', 'Soybeans'), ('Tangerine', 'Tangerines'), ('Dance', 'Dances'), ('Lake', 'Lakes'), ('Pirate', 'Pirates'), ('Port', 'Ports'), ('Quilombo', 'Quilombos'), ('Matinha', 'Matinhas'), ('Black Brazilian', 'Black Brazilians'), ('National Park', 'National Parks'), ('Pardo Brazilian', 'Pardo Brazilians'), ('Atlantic Forest', 'Atlantic Forests'), ('Commonwealth Realm', 'Commonwealth Realms'), ('Dinosaur', 'Dinosaurs'), ('Fossil Fuel', 'Fossil Fuels'), ('Gaul', 'Gauls'), ('Invertebrate', 'Invertebrates'), ('Mammal', 'Mammals'), ('Plant', 'Plants'), ('Savanna', 'Savannas'), ('Tree', 'Trees'), ('Bird', 'Birds'), ('Parrot', 'Parrots'), ('Reptile', 'Reptiles'), ('Barreirinha', 'Barreirinhas'), ('Carmelite', 'Carmelites'), ('Catholic', 'Catholics'), ('Hunter-Gatherer', 'Hunter-Gatherers'), ('Jesuit', 'Jesuits'), ('Motorcycle', 'Motorcycles'), ('Central Bank', 'Central Banks'), ('Commercial Bank', 'Commercial Banks'), ('Demand Note', 'Demand Notes'), ('Dollar', 'Dollars'), ('Federal Reserve Bank', 'Federal Reserve Banks'), ('Federal Reserve Note', 'Federal Reserve Notes'), ('Fixed Exchange Rate', 'Fixed Exchange Rates'), ('Government Bond', 'Government Bonds'), ('Indian Reservation', 'Indian Reservations'), ('International Dollar', 'International Dollars'), ('Spanish Dollar', 'Spanish Dollars'), ('United States Note', 'United States Notes'), ('United States Commemorative Coin', 'United States Commemorative Coins'), ('Baptist', 'Baptists'), ('German Brazilian', 'German Brazilians'), ('Italian Brazilian', 'Italian Brazilians'), ('Methodist', 'Methodists'), ('Pentecostal', 'Pentecostals'), ('Presbyterian', 'Presbyterians'), ('Textile', 'Textiles'), ('Ethnic Group', 'Ethnic Groups'), ('Island', 'Islands'), ('Manor House', 'Manor Houses'), ('Quince', 'Quinces'), ('Romance Language', 'Romance Languages'), ('Trade Union', 'Trade Unions'), ('Unesco World Heritage Site', 'Unesco World Heritage Sites'), ('Winter Olympic', 'Winter Olympics'), ('Chicken', 'Chickens'), ('Bric', 'Brics'), ('Ceramic', 'Ceramics'), ('Guerrilla', 'Guerrillas'), ('Karajá Language', 'Karajá Languages'), ('Tupi-Guarani Language', 'Tupi-Guarani Languages'), ('Amerindian', 'Amerindians'), ('Braúna', 'Braúnas'), ('Arab Argentine', 'Arab Argentines'), ('Asian Argentine', 'Asian Argentines'), ('Atheist', 'Atheists'), ('Cardiovascular Disease', 'Cardiovascular Diseases'), ('Caudillo', 'Caudillos'), ('Conifer', 'Conifers'), ('Ecosystem', 'Ecosystems'), ('Empanada', 'Empanadas'), ('Fern', 'Ferns'), ('Gaucho', 'Gauchos'), ('Guarani Language', 'Guarani Languages'), ('Llama', 'Llamas'), ('Mestizo', 'Mestizos'), ('Mormon', 'Mormons'), ('Nuclear Reactor', 'Nuclear Reactors'), ('Nuclear Weapon', 'Nuclear Weapons'), ('Pancake', 'Pancakes'), ('Pato', 'Patos'), ('Quechua Language', 'Quechua Languages'), ('Satellite', 'Satellites'), ('Sea Port', 'Sea Ports'), ('Steppe', 'Steppes'), ('Syrian', 'Syrians'), ('Trade Deficit', 'Trade Deficits'), ('Waterway', 'Waterways'), ('Argentine Brazilian', 'Argentine Brazilians'), ('Hydroelectric Plant', 'Hydroelectric Plants'), ('Brazilian State', 'Brazilian States'), ('Carioca', 'Cariocas'), ('District', 'Districts'), ('Art', 'Arts'), ('Art Movement', 'Art Movements'), ('Art School', 'Art Schools'), ('Cultural Artifact', 'Cultural Artifacts'), ('Fine Art', 'Fine Arts'), ('Muse', 'Muses'), ('Social Science', 'Social Sciences'), ('Visual Art', 'Visual Arts'), ('Buddhist', 'Buddhists'), ('Continent', 'Continents'), ('Guinness World Record', 'Guinness World Records'), ('Himalaya', 'Himalayas'), ('Multinational Corporation', 'Multinational Corporations'), ('National Symbol', 'National Symbols'), ('Bandeirante', 'Bandeirantes'), ('Aboriginal Australian', 'Aboriginal Australians'), ('Anglican', 'Anglicans'), ('Anglo-Celtic Australian', 'Anglo-Celtic Australians'), ('Chinese Australian', 'Chinese Australians'), ('Cyclone', 'Cyclones'), ('English Australian', 'English Australians'), ('Filipino Australian', 'Filipino Australians'), ('German Australian', 'German Australians'), ('Greek Australian', 'Greek Australians'), ('Indian Australian', 'Indian Australians'), ('Indigenous Australian', 'Indigenous Australians'), ('Irish Australian', 'Irish Australians'), ('Italian Australian', 'Italian Australians'), ('Monsoon', 'Monsoons'), ('Refugee', 'Refugees'), ('Roman Catholic', 'Roman Catholics'), ('Scottish Australian', 'Scottish Australians'), ('Tectonic Plate', 'Tectonic Plates'), ('Urban Area', 'Urban Areas'), ('Vietnamese Australian', 'Vietnamese Australians'), ('Wetland', 'Wetlands'), ('Motor Vehicle', 'Motor Vehicles'), ('Afro-Bahamian', 'Afro-Bahamians'), ('America', 'Americas'), ('Arawak', 'Arawaks'), ('Bahama', 'Bahamas'), ('Coral Reef', 'Coral Reefs'), ('Hindu', 'Hindus'), ('Muslim', 'Muslims'), ('Protestant', 'Protestants'), ('Puritan', 'Puritans'), ('Sand Dune', 'Sand Dunes'), ('White Bahamian', 'White Bahamians'), ('Capoeira', 'Capoeiras'), ('Diamond', 'Diamonds'), ('Goat', 'Goats'), ('Hydroelectric Power Plant', 'Hydroelectric Power Plants'), ('Mineral', 'Minerals'), ('Pride Fighting Championship', 'Pride Fighting Championships'), ('Reef', 'Reefs'), ('Whale', 'Whales'), ('Banana Island', 'Banana Islands'), ('School', 'Schools'), ('Arab', 'Arabs'), ('Economic Partnership Agreement', 'Economic Partnership Agreements'), ('Slave', 'Slaves'), ('Maravilha', 'Maravilhas'), ('Bolshevik', 'Bolsheviks'), ('Habsburg', 'Habsburgs'), ('Immigrant', 'Immigrants'), ('Merovingian', 'Merovingians'), ('Arab Brazilian', 'Arab Brazilians'), ('Araponga', 'Arapongas'), ('Automobile', 'Automobiles'), ('Favela', 'Favelas'), ('Gemstone', 'Gemstones'), ('Portuguese Brazilian', 'Portuguese Brazilians'), ('Spanish Brazilian', 'Spanish Brazilians'), ('Araucaria', 'Araucarias'), ('Birth Rate', 'Birth Rates'), ('Chiefdom', 'Chiefdoms'), ('Chinese Brazilian', 'Chinese Brazilians'), ('Commodity Market', 'Commodity Markets'), ('Creole Language', 'Creole Languages'), ('Emerald', 'Emeralds'), ('Emerging Power', 'Emerging Powers'), ('Interest Rate', 'Interest Rates'), ('Japanese Brazilian', 'Japanese Brazilians'), ('Lusophone', 'Lusophones'), ('Mulatto', 'Mulattos'), ('Petrochemical', 'Petrochemicals'), ('Physicist', 'Physicists'), ('Polish Brazilian', 'Polish Brazilians'), ('Public Service', 'Public Services'), ('Semiconductor', 'Semiconductors'), ('Soap Opera', 'Soap Operas'), ('Tapir', 'Tapirs'), ('Ukrainian Brazilian', 'Ukrainian Brazilians'), ('Wind Farm', 'Wind Farms'), ('Afro-Bolivian', 'Afro-Bolivians'), ('Artisan', 'Artisans'), ('Conquistador', 'Conquistadors'), ('Glacier', 'Glaciers'), ('Hectare', 'Hectares'), ('Medicinal Plant', 'Medicinal Plants'), ('Econometric', 'Econometrics'), ('Charqueada', 'Charqueadas'), ('Headquarter', 'Headquarters'), ('Helicopter', 'Helicopters'), ('Cave Painting', 'Cave Paintings'), ('Cereal', 'Cereals'), ('Dutch Brazilian', 'Dutch Brazilians'), ('Hot Dog', 'Hot Dogs'), ('Wine', 'Wines'), ('Communist', 'Communists'), ('Afro-American Religion', 'Afro-American Religions'), ('Aesthetic', 'Aesthetics'), ('Indigenous People', 'Indigenous Peoples'), ('Numismatic', 'Numismatics'), ('Afrikaner', 'Afrikaners'), ('Armenian Brazilian', 'Armenian Brazilians'), ('Austrian Brazilian', 'Austrian Brazilians'), ('Greek Brazilian', 'Greek Brazilians'), ('Iranian People', 'Iranian Peoples'), ('Irish Brazilian', 'Irish Brazilians'), ('Mameluco', 'Mamelucos'), ('Native Brazilian', 'Native Brazilians'), ('New Christian', 'New Christians'), ('Death Rate', 'Death Rates'), ('Grammy Award', 'Grammy Awards'), ('Neanderthal', 'Neanderthals'), ('Waterfall', 'Waterfalls'), ('Aimoré', 'Aimorés'), ('Film Format', 'Film Formats'), ('Image Sensor', 'Image Sensors'), ('Primary Color', 'Primary Colors'), ('Business Incubator', 'Business Incubators'), ('Caiuá', 'Caiuás'), ('Flower', 'Flowers'), ('Guariba', 'Guaribas'), ('Integrated Circuit', 'Integrated Circuits'), ('Locomotive', 'Locomotives'), ('Railway', 'Railways'), ('Paraguayan Brazilian', 'Paraguayan Brazilians'), ('Festival', 'Festivals'), ('Black Hole', 'Black Holes'), ('Christian Denomination', 'Christian Denominations'), ('French Canadian', 'French Canadians'), ('French And Indian War', 'French And Indian Wars'), ('Glacial Period', 'Glacial Periods'), ('Ice Field', 'Ice Fields'), ('Leek', 'Leeks'), ('Minority Language', 'Minority Languages'), ('Paleo-Indian', 'Paleo-Indians'), ('Prince Edward Island', 'Prince Edward Islands'), ('Indo-Caribbean', 'Indo-Caribbeans'), ('Indo-Trinidadian', 'Indo-Trinidadians'), ('Tropical Cyclone', 'Tropical Cyclones'), ('Alagoinha', 'Alagoinhas'), ('Gameleira', 'Gameleiras'), ('Handicraft', 'Handicrafts'), ('Paulista', 'Paulistas'), ('Crustacean', 'Crustaceans'), ('Mangrove', 'Mangroves'), ('Tropical Fruit', 'Tropical Fruits'), ('Emerging Market', 'Emerging Markets'), ('Gigawatt', 'Gigawatts'), ('Indo-European Language', 'Indo-European Languages'), ('Ngo', 'Ngos'), ('Potential Superpower', 'Potential Superpowers'), ('Sino-Tibetan Language', 'Sino-Tibetan Languages'), ('Water Shortage', 'Water Shortages'), ('Zhuang Language', 'Zhuang Languages'), ('Academy Award', 'Academy Awards'), ('Business Magnate', 'Business Magnates'), ('City-State', 'City-States'), ('Commoner', 'Commoners'), ('Gcse', 'Gcses'), ('Russian Oligarch', 'Russian Oligarchs'), ('Caiapo', 'Caiapos'), ('Jesuit Reduction', 'Jesuit Reductions'), ('Slave Ship', 'Slave Ships'), ('Sport', 'Sports'), ('Airport', 'Airports'), ('Tonne', 'Tonnes'), ('Constitutional Amendment', 'Constitutional Amendments'), ('Encomienda', 'Encomiendas'), ('English-Based Creole Language', 'English-Based Creole Languages'), ('Export', 'Exports'), ('Hacienda', 'Haciendas'), ('Homicide', 'Homicides'), ('Croat', 'Croats'), ('Yugoslav Partisan', 'Yugoslav Partisans'), ('Ancestral Puebloan', 'Ancestral Puebloans'), ('Asian American', 'Asian Americans'), ('Cash Crop', 'Cash Crops'), ('European American', 'European Americans'), ('Great Power', 'Great Powers'), ('Multiracial American', 'Multiracial Americans'), ('Human Race', 'Human Races'), ('Korean Brazilian', 'Korean Brazilians'), ('Swiss Brazilian', 'Swiss Brazilians'), ('Theater', 'Theaters'), ('Wage', 'Wages'), ('European Brazilian', 'European Brazilians'), ('Portuguese-Brazilian', 'Portuguese-Brazilians'), ('Slavic People', 'Slavic Peoples'), ('South American', 'South Americans'), ('Crusade', 'Crusades'), ('Hussite', 'Hussites'), ('Motorsport', 'Motorsports'), ('Nuclear Power Plant', 'Nuclear Power Plants'), ('Thunderstorm', 'Thunderstorms'), ('Indigenous Brazilian', 'Indigenous Brazilians'), ('Lutheran', 'Lutherans'), ('Mizrahi Jew', 'Mizrahi Jews'), ('Sephardic Jew', 'Sephardic Jews'), ('Civil Union', 'Civil Unions'), ('Environmental Issue', 'Environmental Issues'), ('Mental Disorder', 'Mental Disorders'), ('Barangay', 'Barangays'), ('Commune', 'Communes'), ('Region', 'Regions'), ('Vassal State', 'Vassal States'), ('Willis Island', 'Willis Islands'), ('Evangelical Protestant', 'Evangelical Protestants'), ('Seventh-Day Adventist', 'Seventh-Day Adventists'), ('Spiritist', 'Spiritists'), ('Socioeconomic', 'Socioeconomics'), ('Belgian Brazilian', 'Belgian Brazilians'), ('Bulgarian Brazilian', 'Bulgarian Brazilians'), ('Consumer Durable', 'Consumer Durables'), ('Czech Brazilian', 'Czech Brazilians'), ('English Brazilian', 'English Brazilians'), ('Finnish Brazilian', 'Finnish Brazilians'), ('French Brazilian', 'French Brazilians'), ('Hungarian Brazilian', 'Hungarian Brazilians'), ('Latvian Brazilian', 'Latvian Brazilians'), ('Lebanese Brazilian', 'Lebanese Brazilians'), ('Phosphate', 'Phosphates'), ('Road', 'Roads'), ('Scandinavian Brazilian', 'Scandinavian Brazilians'), ('Scottish Brazilian', 'Scottish Brazilians'), ('Syrian Brazilian', 'Syrian Brazilians'), ('Chemical', 'Chemicals'), ('Consumer Good', 'Consumer Goods'), ('Natural Resource', 'Natural Resources'), ('Theme Park', 'Theme Parks'), ('Afro-Ecuadorian', 'Afro-Ecuadorians'), ('Applied Science', 'Applied Sciences'), ('Evangelical', 'Evangelicals'), ('National Academy Of Science', 'National Academy Of Sciences'), ('White Ecuadorian', 'White Ecuadorians'), ('White Latin American', 'White Latin Americans'), ('Coalition Government', 'Coalition Governments'), ('Megawatt', 'Megawatts'), ('Indentured Servant', 'Indentured Servants'), ('Émigré', 'Émigrés'), ('Mountain Range', 'Mountain Ranges'), ('Greenhouse Gas Emission', 'Greenhouse Gas Emissions'), ('Liter', 'Liters'), ('Tariff', 'Tariffs'), ('Balkan', 'Balkans'), ('Dolphin', 'Dolphins'), ('Homeric Hymn', 'Homeric Hymns'), ('Language', 'Languages'), ('Temperate Broadleaf And Mixed Forest', 'Temperate Broadleaf And Mixed Forests'), ('Viking', 'Vikings'), ('Western Religion', 'Western Religions'), ('Coastal Plain', 'Coastal Plains'), ('Sea Cave', 'Sea Caves'), ('Tectonic', 'Tectonics'), ('Tide Pool', 'Tide Pools'), ('Petroglyph', 'Petroglyphs'), ('Politic', 'Politics'), ('Surfer', 'Surfers'), ('Financial Instrument', 'Financial Instruments'), ('Scholarship', 'Scholarships'), ('Restinga', 'Restingas'), ('Skyscraper', 'Skyscrapers'), ('French Wine', 'French Wines'), ('Huguenot', 'Huguenots'), ('International Organization', 'International Organizations'), ('Middle Age', 'Middle Ages'), ('Anger', 'Angers'), ('Cross-Sex Friendship', 'Cross-Sex Friendships'), ('Interpersonal Relationship', 'Interpersonal Relationships'), ('Social Cue', 'Social Cues'), ('Troubadour', 'Troubadours'), ('Vaccine', 'Vaccines'), ('Paraguayan', 'Paraguayans'), ('Pampa', 'Pampas'), ('Rapid', 'Rapids'), ('Shale', 'Shales'), ('Extermination Camp', 'Extermination Camps'), ('Kurdish Language', 'Kurdish Languages'), ('Buriti', 'Buritis'), ('Palace', 'Palaces'), ('Hydrangea', 'Hydrangeas'), ('Additive Color', 'Additive Colors'), ('Blue', 'Blues'), ('Chinese Character', 'Chinese Characters'), ('Complementary Color', 'Complementary Colors'), ('Firework', 'Fireworks'), ('Maroon', 'Maroons'), ('Prostitute', 'Prostitutes'), ('White', 'Whites'), ('X-Ray', 'X-Rays'), ('Igneous Rock', 'Igneous Rocks'), ('Palmito', 'Palmitos'), ('German Guatemalan', 'German Guatemalans'), ('Highway', 'Highways'), ('Manila Galleon', 'Manila Galleons'), ('Maya People', 'Maya Peoples'), ('Superstition', 'Superstitions'), ('Papal Bull', 'Papal Bulls'), ('Shoe', 'Shoes'), ('Weapon', 'Weapons'), ('Court', 'Courts'), ('Germanic People', 'Germanic Peoples'), ('Hungarian Defence Force', 'Hungarian Defence Forces'), ('Iihf World Championship', 'Iihf World Championships'), ('Non-Governmental Organization', 'Non-Governmental Organizations'), ('Small And Medium Enterprise', 'Small And Medium Enterprises'), ('Electron', 'Electrons'), ('Illuminated Manuscript', 'Illuminated Manuscripts'), ('Linen', 'Linens'), ('Mussel', 'Mussels'), ('Oyster', 'Oysters'), ('Proto-Indo-European', 'Proto-Indo-Europeans'), ('Ulster Scots Dialect', 'Ulster Scots Dialects'), ('Canoe', 'Canoes'), ('Sedimentary Basin', 'Sedimentary Basins'), ('Southern Right Whale', 'Southern Right Whales'), ('Croatian Brazilian', 'Croatian Brazilians'), ('Turkish Brazilian', 'Turkish Brazilians'), ('White American', 'White Americans'), ('American Brazilian', 'American Brazilians'), ('Caribbean Brazilian', 'Caribbean Brazilians'), ('Chilean Brazilian', 'Chilean Brazilians'), ('Peruvian', 'Peruvians'), ('Romanian Brazilian', 'Romanian Brazilians'), ('Russian Brazilian', 'Russian Brazilians'), ('United Kingdom Of Portugal, Brazil, And The Algarve', 'United Kingdom Of Portugal, Brazil, And The Algarves'), ('Uruguayan Brazilian', 'Uruguayan Brazilians'), ('Apiacá', 'Apiacás'), ('Jê Language', 'Jê Languages'), ('Hamburger', 'Hamburgers'), ('Hominid', 'Hominids'), ('Israeli Settlement', 'Israeli Settlements'), ('War Crime', 'War Crimes'), ('Afro-Jamaican', 'Afro-Jamaicans'), ('Iguana', 'Iguanas'), ('Indo-Jamaican', 'Indo-Jamaicans'), ('White Jamaican', 'White Jamaicans'), ('Animist', 'Animists'), ('Cave', 'Caves'), ('People', 'Peoples'), ('Social Group', 'Social Groups'), ('Carib Language', 'Carib Languages'), ('Germanic Language', 'Germanic Languages'), ('Krenak Language', 'Krenak Languages'), ('Xukuruan Language', 'Xukuruan Languages'), ('Aztec', 'Aztecs'), ('Casta', 'Castas'), ('Christian', 'Christians'), ('Compas', 'Compass'), ('Latin American', 'Latin Americans'), ('Freguesia', 'Freguesias'), ('Steamboat', 'Steamboats'), ('Computer', 'Computers'), ('Teacher', 'Teachers'), ('Concentration Camp', 'Concentration Camps'), ('Roman Road', 'Roman Roads'), ('Baltic Language', 'Baltic Languages'), ('Fair', 'Fairs'), ('Larger Urban Zone', 'Larger Urban Zones'), ('Pharmaceutical', 'Pharmaceuticals'), ('War In Donbas', 'War In Donbass'), ('Winter Sport', 'Winter Sports'), ('Respiratory Disease', 'Respiratory Diseases'), ('Taoist', 'Taoists'), ('Palm Tree', 'Palm Trees'), ('Austronesian People', 'Austronesian Peoples'), ('Malaysian Indian', 'Malaysian Indians'), ('Murder', 'Murders'), ('Telecommunication', 'Telecommunications'), ('Chinese Dragon', 'Chinese Dragons'), ('Dolmen', 'Dolmens'), ('Fortification', 'Fortifications'), ('Ice Age', 'Ice Ages'), ('Curralinho', 'Curralinhos'), ('Quaker', 'Quakers'), ('Arab Mexican', 'Arab Mexicans'), ('Converso', 'Conversos'), ('Mesoamerican Pyramid', 'Mesoamerican Pyramids'), ('Vegetable', 'Vegetables'), ('Tepui', 'Tepuis'), ('Shopping Center', 'Shopping Centers'), ('Ballad', 'Ballads'), ('Boteco', 'Botecos'), ('Bantu People', 'Bantu Peoples'), ('Bantustan', 'Bantustans'), ('Baster', 'Basters'), ('Investment', 'Investments'), ('Penguin', 'Penguins'), ('Angico', 'Angicos'), ('Cultural Christian', 'Cultural Christians'), ('Fertility Rate', 'Fertility Rates'), ('Party System', 'Party Systems'), ('Sea Level', 'Sea Levels'), ('Trading Post', 'Trading Posts'), ('Chatham Island', 'Chatham Islands'), ('Macroeconomic', 'Macroeconomics'), ('Pacific Island', 'Pacific Islands'), ('Plate Tectonic', 'Plate Tectonics'), ('Franciscan', 'Franciscans'), ('Economic', 'Economics'), ('Canavieira', 'Canavieiras'), ('Passenger', 'Passengers'), ('Piçarra', 'Piçarras'), ('Donkey', 'Donkeys'), ('Pig', 'Pigs'), ('Austroasiatic Language', 'Austroasiatic Languages'), ('Bikol Language', 'Bikol Languages'), ('Negrito', 'Negritos'), ('Philippine', 'Philippines'), ('Public Broadcasting Service', 'Public Broadcasting Services'), ('Think Tank', 'Think Tanks'), ('Crop', 'Crops'), ('Herbivore', 'Herbivores'), ('Hornwort', 'Hornworts'), ('Horsetail', 'Horsetails'), ('Park', 'Parks'), ('Spore', 'Spores'), ('Effluent', 'Effluents'), ('Environmentalist', 'Environmentalists'), ('Neighborhood', 'Neighborhoods'), ('Human Right', 'Human Rights'), ('Brahma Kumari', 'Brahma Kumaris'), ('Slum', 'Slums'), ('Urban Agglomeration', 'Urban Agglomerations'), ('Argentine', 'Argentines'), ('Italian-Brazilian', 'Italian-Brazilians'), ('Martial Art', 'Martial Arts'), ('Pharmaceutic', 'Pharmaceutics'), ('Tijuca', 'Tijucas'), ('Arikem Language', 'Arikem Languages'), ('Jabutí Language', 'Jabutí Languages'), ('Tuparí Language', 'Tuparí Languages'), ('Snake', 'Snakes'), ('Cosmonaut', 'Cosmonauts'), ('Cro-Magnon', 'Cro-Magnons'), ('Islamist', 'Islamists'), ('Mongol', 'Mongols'), ('Vehicle', 'Vehicles'), ('Hurricane', 'Hurricanes'), ('Scallop', 'Scallops'), ('Confederado', 'Confederados'), ('Small Appliance', 'Small Appliances'), ('Fiber Optic', 'Fiber Optics'), ('Natural Science', 'Natural Sciences'), ('Scientific Paper', 'Scientific Papers'), ('Celt', 'Celts'), ('Gospel', 'Gospels'), ('Season', 'Seasons'), ('Benedictine', 'Benedictines'), ('Marrano', 'Marranos'), ('Uncontacted People', 'Uncontacted Peoples'), ('Plains Indian', 'Plains Indians'), ('Antibiotic', 'Antibiotics'), ('Chopstick', 'Chopsticks'), ('Ashkenazi Jew', 'Ashkenazi Jews'), ('Volga German', 'Volga Germans'), ('Creole People', 'Creole Peoples'), ('Cossack', 'Cossacks'), ('Crime Rate', 'Crime Rates'), ('Dairy Product', 'Dairy Products'), ('Enclave', 'Enclaves'), ('Mollusk', 'Mollusks'), ('Tony Award', 'Tony Awards'), ('Howitzer', 'Howitzers'), ('Tithe', 'Tithes'), ('Asian Elephant', 'Asian Elephants'), ('Sunni Muslim', 'Sunni Muslims'), ('Aleut People', 'Aleut Peoples'), ('Anglo-Saxon', 'Anglo-Saxons'), ('Californio', 'Californios'), ('Cloud Forest', 'Cloud Forests'), ('Chimichurri', 'Chimichurris'), ('Indian Reduction', 'Indian Reductions'), ('Sea Lion', 'Sea Lions'), ('Atacameño', 'Atacameños'), ('Meter', 'Meters'), ('Chestnut', 'Chestnuts'), ('Candlemas Island', 'Candlemas Islands'), ('King Penguin', 'King Penguins'), ('Airline', 'Airlines'), ('Alloy', 'Alloys'), ('Canal', 'Canals'), ('Final Good', 'Final Goods'), ('Home Appliance', 'Home Appliances'), ('Intermediate Good', 'Intermediate Goods'), ('Pedestrian', 'Pedestrians'), ('Perfume', 'Perfumes'), ('Aetosaur', 'Aetosaurs'), ('Archosaur', 'Archosaurs'), ('Phytosaur', 'Phytosaurs'), ('Trade Wind', 'Trade Winds'), ('Castle', 'Castles'), ('Mongol Invasion', 'Mongol Invasions'), ('Varangian', 'Varangians'), ('Channel Island', 'Channel Islands'), ('Algarve', 'Algarves'), ('Kingdom Of The Algarve', 'Kingdom Of The Algarves'), ('Linguist', 'Linguists'), ('Afro-Uruguayan', 'Afro-Uruguayans'), ('Asian Latin American', 'Asian Latin Americans'), ('Tribunal', 'Tribunals'), ('Foodstuff', 'Foodstuffs'), ('Italo-Venezuelan', 'Italo-Venezuelans'), ('Manatee', 'Manatees'), ('Mariche', 'Mariches'), ('Squirrel Monkey', 'Squirrel Monkeys')]\n",
            "[('Late-2000S Recession', 'Late 2000S Recession'), ('European Sovereign-Debt Crisis', 'European Sovereign Debt Crisis'), ('Afro-Brazilian', 'Afro Brazilian'), ('Carne-De-Sol', 'Carne De Sol'), ('Zip-Line', 'Zip Line'), ('Slash-And-Burn', 'Slash And Burn'), ('Sugar-Apple', 'Sugar Apple'), ('Anglo-America', 'Anglo America'), ('Guinea-Bissau', 'Guinea Bissau'), ('Commander-In-Chief', 'Commander In Chief'), ('Artist-In-Residence', 'Artist In Residence'), ('Alberto Santos-Dumont', 'Alberto Santos Dumont'), ('Asia-Pacific Economic Cooperation', 'Asia Pacific Economic Cooperation'), ('Semi-Arid', 'Semi Arid'), ('Mercedes-Benz', 'Mercedes Benz'), ('Working-Class', 'Working Class'), ('Flexible-Fuel Vehicle', 'Flexible Fuel Vehicle'), ('Brussels-Capital Region', 'Brussels Capital Region'), ('Sapucaí-Mirim', 'Sapucaí Mirim'), ('Brazilian Jiu-Jitsu', 'Brazilian Jiu Jitsu'), ('Free-Float', 'Free Float'), ('Jean-Baptiste Debret', 'Jean Baptiste Debret'), ('Per-Capita Income', 'Per Capita Income'), ('Great-Britain', 'Great Britain'), ('Ground-Glass', 'Ground Glass'), ('Medium-Format', 'Medium Format'), ('Eco-Tourism', 'Eco Tourism'), ('Saint-Barthélemy', 'Saint Barthélemy'), ('Governor-General', 'Governor General'), ('Japanese-Brazilian', 'Japanese Brazilian'), ('Portuguese-Brazilian', 'Portuguese Brazilian'), ('Asian-Brazilian', 'Asian Brazilian'), ('European-American', 'European American'), ('Middle-East', 'Middle East'), ('Sugar-Cane', 'Sugar Cane'), ('Case-Law', 'Case Law'), ('Value-Added Tax', 'Value Added Tax'), ('African-Brazilian', 'African Brazilian'), ('São João Del-Rei', 'São João Del Rei'), ('Free-Trade Area', 'Free Trade Area'), ('Morona-Santiago Province', 'Morona Santiago Province'), ('Manuel De Araújo Porto-Alegre, Baron Of Santo Ângelo', 'Manuel De Araújo Porto Alegre, Baron Of Santo Ângelo'), ('Free-Market', 'Free Market'), ('Vice-President Of Brazil', 'Vice President Of Brazil'), ('Foreign-Exchange Reserves', 'Foreign Exchange Reserves'), ('Baden-Württemberg', 'Baden Württemberg'), ('Italo-Brazilian', 'Italo Brazilian'), ('Al-Khidr', 'Al Khidr'), ('High-Income Economy', 'High Income Economy'), ('Upper-Hungary', 'Upper Hungary'), ('Tupi-Guarani', 'Tupi Guarani'), ('Public-Private Partnership', 'Public Private Partnership'), ('Horse-Racing', 'Horse Racing'), ('Savanna-La-Mar', 'Savanna La Mar'), ('German-Brazilian', 'German Brazilian'), ('German-Americans', 'German Americans'), ('Mexican-American War', 'Mexican American War'), ('Grand-Duke Of Luxembourg', 'Grand Duke Of Luxembourg'), ('Light-Rail', 'Light Rail'), ('Itapecuru-Mirim', 'Itapecuru Mirim'), ('Stainless-Steel', 'Stainless Steel'), ('Free-Trade Agreement', 'Free Trade Agreement'), ('Rock-And-Roll', 'Rock And Roll'), ('Hip-Hop', 'Hip Hop'), ('German South-West Africa', 'German South West Africa'), ('Free-Trade', 'Free Trade'), ('Mixed-Race', 'Mixed Race'), ('Ice-Cream', 'Ice Cream'), ('Art-Deco', 'Art Deco'), ('Non-Food Crop', 'Non Food Crop'), ('Italian-Brazilian', 'Italian Brazilian'), ('Bobó-De-Camarão', 'Bobó De Camarão'), ('Samba-Reggae', 'Samba Reggae'), ('Mother-Tongue', 'Mother Tongue'), ('Dokdo-Class Amphibious Assault Ship', 'Dokdo Class Amphibious Assault Ship'), ('Nieuw-Nickerie', 'Nieuw Nickerie'), ('Pan-American Games', 'Pan American Games'), ('Scorched-Earth', 'Scorched Earth'), ('Vaza-Barris River', 'Vaza Barris River'), ('South-West Africa', 'South West Africa'), ('Greenhouse-Gas', 'Greenhouse Gas'), ('Food-Web', 'Food Web'), ('Chutney-Soca', 'Chutney Soca'), ('Pan-American Health Organization', 'Pan American Health Organization')]\n"
          ],
          "name": "stdout"
        }
      ]
    },
    {
      "cell_type": "code",
      "metadata": {
        "id": "Bqe2ruDmPcNH",
        "colab": {
          "base_uri": "https://localhost:8080/"
        },
        "outputId": "3d2bc1c9-c2b5-434d-dd82-4823f7bd1fee"
      },
      "source": [
        "print(\"{} nodes, {} edges\".format(len(g), nx.number_of_edges(g)))"
      ],
      "execution_count": 12,
      "outputs": [
        {
          "output_type": "stream",
          "text": [
            "85906 nodes, 221021 edges\n"
          ],
          "name": "stdout"
        }
      ]
    },
    {
      "cell_type": "markdown",
      "metadata": {
        "id": "TulPj3ZQQAS8"
      },
      "source": [
        "## 1.4 Truncate the network"
      ]
    },
    {
      "cell_type": "code",
      "metadata": {
        "id": "AaHxaOwMLW9B",
        "colab": {
          "base_uri": "https://localhost:8080/",
          "height": 406
        },
        "outputId": "ef8ccac8-766c-44da-e173-492d528389e9"
      },
      "source": [
        "plt.style.use(\"default\")\n",
        "# degree sequence\n",
        "degree_sequence = sorted([d for n, d in g.degree()], reverse=True)  \n",
        "\n",
        "fig, ax = plt.subplots(1,2,figsize=(8,4))\n",
        "\n",
        "# all_data has information about degree_sequence and the width of each bin\n",
        "ax[0].hist(degree_sequence)\n",
        "ax[1].hist(degree_sequence,bins=[1,2,3,4,5,6,7,8,9,10])\n",
        "\n",
        "ax[0].set_title(\"Degree Histogram\")\n",
        "ax[0].set_ylabel(\"Count\")\n",
        "ax[0].set_xlabel(\"Degree\")\n",
        "ax[0].set_ylim(0,60000)\n",
        "\n",
        "ax[1].set_title(\"Degree Histogram - Zoom\")\n",
        "ax[1].set_ylabel(\"Count\")\n",
        "ax[1].set_xlabel(\"Degree\")\n",
        "ax[1].set_xlim(0,10)\n",
        "ax[1].set_ylim(0,60000)\n",
        "\n",
        "plt.tight_layout()\n",
        "plt.show()"
      ],
      "execution_count": 21,
      "outputs": [
        {
          "output_type": "display_data",
          "data": {
            "image/png": "[encoded data removed]",
            "text/plain": [
              "<Figure size 800x400 with 2 Axes>"
            ]
          },
          "metadata": {}
        }
      ]
    },
    {
      "cell_type": "code",
      "metadata": {
        "id": "Br8-5IGIUbVT",
        "colab": {
          "base_uri": "https://localhost:8080/"
        },
        "outputId": "d2edd5be-8673-4e25-bd3b-149a28128877"
      },
      "source": [
        "# filter nodes with degree greater than or equal to 2\n",
        "core = [node for node, deg in dict(g.degree()).items() if deg >= 3]\n",
        "\n",
        "# select a subgraph with 'core' nodes\n",
        "gsub = nx.subgraph(g, core)\n",
        "\n",
        "print(\"{} nodes, {} edges\".format(len(gsub), nx.number_of_edges(gsub)))\n",
        "\n",
        "nx.write_graphml(gsub, \"brazil_tourism2.graphml\")"
      ],
      "execution_count": 22,
      "outputs": [
        {
          "output_type": "stream",
          "text": [
            "15610 nodes, 138883 edges\n"
          ],
          "name": "stdout"
        }
      ]
    },
    {
      "cell_type": "code",
      "metadata": {
        "id": "GD2AghG1eXMB",
        "colab": {
          "base_uri": "https://localhost:8080/"
        },
        "outputId": "dc88838f-bd0c-4d82-dac9-b2331aedf2f0"
      },
      "source": [
        "print(\"Nodes removed: {:.2f}%\".format(100*(1 - 15610/85906)))\n",
        "print(\"Edges removed: {:.2f}%\".format(100*(1 - 138883/221021)))\n",
        "print(\"Edges per nodes: {:.2f}\".format(138883/15610))"
      ],
      "execution_count": 23,
      "outputs": [
        {
          "output_type": "stream",
          "text": [
            "Nodes removed: 81.83%\n",
            "Edges removed: 37.16%\n",
            "Edges per nodes: 8.90\n"
          ],
          "name": "stdout"
        }
      ]
    },
    {
      "cell_type": "markdown",
      "metadata": {
        "id": "5zRjfGLtZ2qB"
      },
      "source": [
        "## 1.5 Explore the network"
      ]
    },
    {
      "cell_type": "code",
      "metadata": {
        "id": "gwlRxZ2kmDL-",
        "colab": {
          "base_uri": "https://localhost:8080/"
        },
        "outputId": "7599c2e8-8756-4ab4-93bb-b941cc9ce467"
      },
      "source": [
        "top_indegree = sorted(dict(gsub.in_degree()).items(),\n",
        "                      reverse=True, key=itemgetter(1))[:20]\n",
        "print(\"\\n\".join(map(lambda t: \"{} {}\".format(*reversed(t)), top_indegree)))"
      ],
      "execution_count": 29,
      "outputs": [
        {
          "output_type": "stream",
          "text": [
            "382 Brazil\n",
            "298 Geographic Coordinate System\n",
            "268 Regions Of Brazil\n",
            "252 Viaf (Identifier)\n",
            "219 States Of Brazil\n",
            "207 Time In Brazil\n",
            "197 Wayback Machine\n",
            "193 Economy Of Brazil\n",
            "192 Brazilian Real\n",
            "190 Time Zone\n",
            "181 Tourism In Brazil\n",
            "174 Pantanal\n",
            "173 Economic History Of Brazil\n",
            "172 Central Bank Of Brazil\n",
            "172 Energy Policy Of Brazil\n",
            "172 Mining In Brazil\n",
            "171 Industry In Brazil\n",
            "171 Agriculture In Brazil\n",
            "171 Corruption In Brazil\n",
            "171 Transport In Brazil\n"
          ],
          "name": "stdout"
        }
      ]
    }
  ]
}