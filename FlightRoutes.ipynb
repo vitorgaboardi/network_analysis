{
  "nbformat": 4,
  "nbformat_minor": 0,
  "metadata": {
    "colab": {
      "name": "FlightRoutes.ipynb",
      "provenance": [],
      "collapsed_sections": [],
      "authorship_tag": "ABX9TyNpnhhNcSGvH1sKQ4K9m0lW",
      "include_colab_link": true
    },
    "kernelspec": {
      "name": "python3",
      "display_name": "Python 3"
    },
    "language_info": {
      "name": "python"
    }
  },
  "cells": [
    {
      "cell_type": "markdown",
      "metadata": {
        "id": "view-in-github",
        "colab_type": "text"
      },
      "source": [
        "<a href=\"https://colab.research.google.com/github/vitorgaboardi/network_analysis/blob/main/FlightRoutes.ipynb\" target=\"_parent\"><img src=\"https://colab.research.google.com/assets/colab-badge.svg\" alt=\"Open In Colab\"/></a>"
      ]
    },
    {
      "cell_type": "markdown",
      "metadata": {
        "id": "Wd2GuDllxxPd"
      },
      "source": [
        "Notebook created by **Vitor Gaboardi dos Santos**\n",
        "\n",
        "This notebook was designed to create a flight routes graph of a specific country."
      ]
    },
    {
      "cell_type": "markdown",
      "metadata": {
        "id": "hxlBigvElOvD"
      },
      "source": [
        "#1. Pre-processing Dataset"
      ]
    },
    {
      "cell_type": "markdown",
      "metadata": {
        "id": "MqWipt4plI4r"
      },
      "source": [
        "Importing Libraries"
      ]
    },
    {
      "cell_type": "code",
      "metadata": {
        "id": "uuQu3Ot0jbFU",
        "colab": {
          "base_uri": "https://localhost:8080/",
          "height": 35
        },
        "outputId": "1392a456-7d9d-459c-c14e-32b42036ca0c"
      },
      "source": [
        "import pandas as pd\n",
        "pd.__version__"
      ],
      "execution_count": 1,
      "outputs": [
        {
          "output_type": "execute_result",
          "data": {
            "application/vnd.google.colaboratory.intrinsic+json": {
              "type": "string"
            },
            "text/plain": [
              "'1.3.0'"
            ]
          },
          "metadata": {
            "tags": []
          },
          "execution_count": 1
        }
      ]
    },
    {
      "cell_type": "markdown",
      "metadata": {
        "id": "x796Rt6UlWsz"
      },
      "source": [
        "The first step is to download the datasets. Both Datasets were taken from the following the [OpenFlights](openflights.org) websites. \n",
        "\n",
        "You can use the above website to see how the datasets are organized.\n",
        "\n",
        "In this notebook, we will use the **airports** and **routes** datasets."
      ]
    },
    {
      "cell_type": "code",
      "metadata": {
        "colab": {
          "base_uri": "https://localhost:8080/"
        },
        "id": "sQP4rNaCmGdm",
        "outputId": "76750c4a-ede9-4ba1-c517-0dbb236b9208"
      },
      "source": [
        "!gdown https://raw.githubusercontent.com/jpatokal/openflights/master/data/routes.dat\n",
        "!gdown https://raw.githubusercontent.com/jpatokal/openflights/master/data/airports.dat"
      ],
      "execution_count": 2,
      "outputs": [
        {
          "output_type": "stream",
          "text": [
            "Downloading...\n",
            "From: https://raw.githubusercontent.com/jpatokal/openflights/master/data/routes.dat\n",
            "To: /content/routes.dat\n",
            "2.38MB [00:00, 36.2MB/s]      \n",
            "Downloading...\n",
            "From: https://raw.githubusercontent.com/jpatokal/openflights/master/data/airports.dat\n",
            "To: /content/airports.dat\n",
            "1.13MB [00:00, 17.8MB/s]      \n"
          ],
          "name": "stdout"
        }
      ]
    },
    {
      "cell_type": "markdown",
      "metadata": {
        "id": "_dyZLJ7TmeB0"
      },
      "source": [
        "Both datasets have information separated by comma. Thus, when using pandas to read the datasets, we must use \"sep=','."
      ]
    },
    {
      "cell_type": "code",
      "metadata": {
        "id": "p1_zF86PkhT6"
      },
      "source": [
        "airports = pd.read_csv(\"airports.dat\", sep=',', header=None)\n",
        "routes = pd.read_csv(\"routes.dat\", sep=',', header=None)"
      ],
      "execution_count": 3,
      "outputs": []
    },
    {
      "cell_type": "code",
      "metadata": {
        "colab": {
          "base_uri": "https://localhost:8080/",
          "height": 351
        },
        "id": "pIRltAPZmySz",
        "outputId": "bb83fbea-f6c6-4495-f152-95655de1a4dc"
      },
      "source": [
        "airports.head(10)"
      ],
      "execution_count": 4,
      "outputs": [
        {
          "output_type": "execute_result",
          "data": {
            "text/html": [
              "<div>\n",
              "<style scoped>\n",
              "    .dataframe tbody tr th:only-of-type {\n",
              "        vertical-align: middle;\n",
              "    }\n",
              "\n",
              "    .dataframe tbody tr th {\n",
              "        vertical-align: top;\n",
              "    }\n",
              "\n",
              "    .dataframe thead th {\n",
              "        text-align: right;\n",
              "    }\n",
              "</style>\n",
              "<table border=\"1\" class=\"dataframe\">\n",
              "  <thead>\n",
              "    <tr style=\"text-align: right;\">\n",
              "      <th></th>\n",
              "      <th>0</th>\n",
              "      <th>1</th>\n",
              "      <th>2</th>\n",
              "      <th>3</th>\n",
              "      <th>4</th>\n",
              "      <th>5</th>\n",
              "      <th>6</th>\n",
              "      <th>7</th>\n",
              "      <th>8</th>\n",
              "      <th>9</th>\n",
              "      <th>10</th>\n",
              "      <th>11</th>\n",
              "      <th>12</th>\n",
              "      <th>13</th>\n",
              "    </tr>\n",
              "  </thead>\n",
              "  <tbody>\n",
              "    <tr>\n",
              "      <th>0</th>\n",
              "      <td>1</td>\n",
              "      <td>Goroka Airport</td>\n",
              "      <td>Goroka</td>\n",
              "      <td>Papua New Guinea</td>\n",
              "      <td>GKA</td>\n",
              "      <td>AYGA</td>\n",
              "      <td>-6.081690</td>\n",
              "      <td>145.391998</td>\n",
              "      <td>5282</td>\n",
              "      <td>10</td>\n",
              "      <td>U</td>\n",
              "      <td>Pacific/Port_Moresby</td>\n",
              "      <td>airport</td>\n",
              "      <td>OurAirports</td>\n",
              "    </tr>\n",
              "    <tr>\n",
              "      <th>1</th>\n",
              "      <td>2</td>\n",
              "      <td>Madang Airport</td>\n",
              "      <td>Madang</td>\n",
              "      <td>Papua New Guinea</td>\n",
              "      <td>MAG</td>\n",
              "      <td>AYMD</td>\n",
              "      <td>-5.207080</td>\n",
              "      <td>145.789001</td>\n",
              "      <td>20</td>\n",
              "      <td>10</td>\n",
              "      <td>U</td>\n",
              "      <td>Pacific/Port_Moresby</td>\n",
              "      <td>airport</td>\n",
              "      <td>OurAirports</td>\n",
              "    </tr>\n",
              "    <tr>\n",
              "      <th>2</th>\n",
              "      <td>3</td>\n",
              "      <td>Mount Hagen Kagamuga Airport</td>\n",
              "      <td>Mount Hagen</td>\n",
              "      <td>Papua New Guinea</td>\n",
              "      <td>HGU</td>\n",
              "      <td>AYMH</td>\n",
              "      <td>-5.826790</td>\n",
              "      <td>144.296005</td>\n",
              "      <td>5388</td>\n",
              "      <td>10</td>\n",
              "      <td>U</td>\n",
              "      <td>Pacific/Port_Moresby</td>\n",
              "      <td>airport</td>\n",
              "      <td>OurAirports</td>\n",
              "    </tr>\n",
              "    <tr>\n",
              "      <th>3</th>\n",
              "      <td>4</td>\n",
              "      <td>Nadzab Airport</td>\n",
              "      <td>Nadzab</td>\n",
              "      <td>Papua New Guinea</td>\n",
              "      <td>LAE</td>\n",
              "      <td>AYNZ</td>\n",
              "      <td>-6.569803</td>\n",
              "      <td>146.725977</td>\n",
              "      <td>239</td>\n",
              "      <td>10</td>\n",
              "      <td>U</td>\n",
              "      <td>Pacific/Port_Moresby</td>\n",
              "      <td>airport</td>\n",
              "      <td>OurAirports</td>\n",
              "    </tr>\n",
              "    <tr>\n",
              "      <th>4</th>\n",
              "      <td>5</td>\n",
              "      <td>Port Moresby Jacksons International Airport</td>\n",
              "      <td>Port Moresby</td>\n",
              "      <td>Papua New Guinea</td>\n",
              "      <td>POM</td>\n",
              "      <td>AYPY</td>\n",
              "      <td>-9.443380</td>\n",
              "      <td>147.220001</td>\n",
              "      <td>146</td>\n",
              "      <td>10</td>\n",
              "      <td>U</td>\n",
              "      <td>Pacific/Port_Moresby</td>\n",
              "      <td>airport</td>\n",
              "      <td>OurAirports</td>\n",
              "    </tr>\n",
              "    <tr>\n",
              "      <th>5</th>\n",
              "      <td>6</td>\n",
              "      <td>Wewak International Airport</td>\n",
              "      <td>Wewak</td>\n",
              "      <td>Papua New Guinea</td>\n",
              "      <td>WWK</td>\n",
              "      <td>AYWK</td>\n",
              "      <td>-3.583830</td>\n",
              "      <td>143.669006</td>\n",
              "      <td>19</td>\n",
              "      <td>10</td>\n",
              "      <td>U</td>\n",
              "      <td>Pacific/Port_Moresby</td>\n",
              "      <td>airport</td>\n",
              "      <td>OurAirports</td>\n",
              "    </tr>\n",
              "    <tr>\n",
              "      <th>6</th>\n",
              "      <td>7</td>\n",
              "      <td>Narsarsuaq Airport</td>\n",
              "      <td>Narssarssuaq</td>\n",
              "      <td>Greenland</td>\n",
              "      <td>UAK</td>\n",
              "      <td>BGBW</td>\n",
              "      <td>61.160500</td>\n",
              "      <td>-45.425999</td>\n",
              "      <td>112</td>\n",
              "      <td>-3</td>\n",
              "      <td>E</td>\n",
              "      <td>America/Godthab</td>\n",
              "      <td>airport</td>\n",
              "      <td>OurAirports</td>\n",
              "    </tr>\n",
              "    <tr>\n",
              "      <th>7</th>\n",
              "      <td>8</td>\n",
              "      <td>Godthaab / Nuuk Airport</td>\n",
              "      <td>Godthaab</td>\n",
              "      <td>Greenland</td>\n",
              "      <td>GOH</td>\n",
              "      <td>BGGH</td>\n",
              "      <td>64.190903</td>\n",
              "      <td>-51.678101</td>\n",
              "      <td>283</td>\n",
              "      <td>-3</td>\n",
              "      <td>E</td>\n",
              "      <td>America/Godthab</td>\n",
              "      <td>airport</td>\n",
              "      <td>OurAirports</td>\n",
              "    </tr>\n",
              "    <tr>\n",
              "      <th>8</th>\n",
              "      <td>9</td>\n",
              "      <td>Kangerlussuaq Airport</td>\n",
              "      <td>Sondrestrom</td>\n",
              "      <td>Greenland</td>\n",
              "      <td>SFJ</td>\n",
              "      <td>BGSF</td>\n",
              "      <td>67.012222</td>\n",
              "      <td>-50.711603</td>\n",
              "      <td>165</td>\n",
              "      <td>-3</td>\n",
              "      <td>E</td>\n",
              "      <td>America/Godthab</td>\n",
              "      <td>airport</td>\n",
              "      <td>OurAirports</td>\n",
              "    </tr>\n",
              "    <tr>\n",
              "      <th>9</th>\n",
              "      <td>10</td>\n",
              "      <td>Thule Air Base</td>\n",
              "      <td>Thule</td>\n",
              "      <td>Greenland</td>\n",
              "      <td>THU</td>\n",
              "      <td>BGTL</td>\n",
              "      <td>76.531197</td>\n",
              "      <td>-68.703201</td>\n",
              "      <td>251</td>\n",
              "      <td>-4</td>\n",
              "      <td>E</td>\n",
              "      <td>America/Thule</td>\n",
              "      <td>airport</td>\n",
              "      <td>OurAirports</td>\n",
              "    </tr>\n",
              "  </tbody>\n",
              "</table>\n",
              "</div>"
            ],
            "text/plain": [
              "   0                                            1   ...       12           13\n",
              "0   1                               Goroka Airport  ...  airport  OurAirports\n",
              "1   2                               Madang Airport  ...  airport  OurAirports\n",
              "2   3                 Mount Hagen Kagamuga Airport  ...  airport  OurAirports\n",
              "3   4                               Nadzab Airport  ...  airport  OurAirports\n",
              "4   5  Port Moresby Jacksons International Airport  ...  airport  OurAirports\n",
              "5   6                  Wewak International Airport  ...  airport  OurAirports\n",
              "6   7                           Narsarsuaq Airport  ...  airport  OurAirports\n",
              "7   8                      Godthaab / Nuuk Airport  ...  airport  OurAirports\n",
              "8   9                        Kangerlussuaq Airport  ...  airport  OurAirports\n",
              "9  10                               Thule Air Base  ...  airport  OurAirports\n",
              "\n",
              "[10 rows x 14 columns]"
            ]
          },
          "metadata": {
            "tags": []
          },
          "execution_count": 4
        }
      ]
    },
    {
      "cell_type": "markdown",
      "metadata": {
        "id": "3RxM0TT1nMOW"
      },
      "source": [
        "In this notebook, we will look for all the airports and flights of a specific country.\n",
        "\n",
        "You can change the country that you want to analyze, just keep in mind that you have to use the same name pattern of the airports dataset."
      ]
    },
    {
      "cell_type": "code",
      "metadata": {
        "colab": {
          "base_uri": "https://localhost:8080/",
          "height": 351
        },
        "id": "PSLE8NnLnJsk",
        "outputId": "a87f92e2-b22d-4f6e-d6b7-8b04e6cf3973"
      },
      "source": [
        "country = \"Brazil\"\n",
        "\n",
        "country_airports = airports[[1,2,4,5,6,7]].loc[airports[3] == country]\n",
        "country_airports = country_airports.rename(columns={1: \"AirportName\", 2: \"City\", 4: \"IATA\", 5: \"ICAO\", 6: \"Latitude\", 7: \"Longitude\"}).reset_index(drop=True)\n",
        "country_airports = country_airports.drop_duplicates(subset=['IATA'])\n",
        "country_airports.head(10)"
      ],
      "execution_count": 5,
      "outputs": [
        {
          "output_type": "execute_result",
          "data": {
            "text/html": [
              "<div>\n",
              "<style scoped>\n",
              "    .dataframe tbody tr th:only-of-type {\n",
              "        vertical-align: middle;\n",
              "    }\n",
              "\n",
              "    .dataframe tbody tr th {\n",
              "        vertical-align: top;\n",
              "    }\n",
              "\n",
              "    .dataframe thead th {\n",
              "        text-align: right;\n",
              "    }\n",
              "</style>\n",
              "<table border=\"1\" class=\"dataframe\">\n",
              "  <thead>\n",
              "    <tr style=\"text-align: right;\">\n",
              "      <th></th>\n",
              "      <th>AirportName</th>\n",
              "      <th>City</th>\n",
              "      <th>IATA</th>\n",
              "      <th>ICAO</th>\n",
              "      <th>Latitude</th>\n",
              "      <th>Longitude</th>\n",
              "    </tr>\n",
              "  </thead>\n",
              "  <tbody>\n",
              "    <tr>\n",
              "      <th>0</th>\n",
              "      <td>Conceição do Araguaia Airport</td>\n",
              "      <td>Conceicao Do Araguaia</td>\n",
              "      <td>CDJ</td>\n",
              "      <td>SBAA</td>\n",
              "      <td>-8.348350</td>\n",
              "      <td>-49.301498</td>\n",
              "    </tr>\n",
              "    <tr>\n",
              "      <th>1</th>\n",
              "      <td>Campo Délio Jardim de Mattos Airport</td>\n",
              "      <td>Rio De Janeiro</td>\n",
              "      <td>\\N</td>\n",
              "      <td>SBAF</td>\n",
              "      <td>-22.875099</td>\n",
              "      <td>-43.384701</td>\n",
              "    </tr>\n",
              "    <tr>\n",
              "      <th>3</th>\n",
              "      <td>Araraquara Airport</td>\n",
              "      <td>Araracuara</td>\n",
              "      <td>AQA</td>\n",
              "      <td>SBAQ</td>\n",
              "      <td>-21.812000</td>\n",
              "      <td>-48.132999</td>\n",
              "    </tr>\n",
              "    <tr>\n",
              "      <th>4</th>\n",
              "      <td>Santa Maria Airport</td>\n",
              "      <td>Aracaju</td>\n",
              "      <td>AJU</td>\n",
              "      <td>SBAR</td>\n",
              "      <td>-10.984000</td>\n",
              "      <td>-37.070301</td>\n",
              "    </tr>\n",
              "    <tr>\n",
              "      <th>5</th>\n",
              "      <td>Piloto Osvaldo Marques Dias Airport</td>\n",
              "      <td>Alta Floresta</td>\n",
              "      <td>AFL</td>\n",
              "      <td>SBAT</td>\n",
              "      <td>-9.866389</td>\n",
              "      <td>-56.105000</td>\n",
              "    </tr>\n",
              "    <tr>\n",
              "      <th>6</th>\n",
              "      <td>Araçatuba Airport</td>\n",
              "      <td>Aracatuba</td>\n",
              "      <td>ARU</td>\n",
              "      <td>SBAU</td>\n",
              "      <td>-21.141300</td>\n",
              "      <td>-50.424702</td>\n",
              "    </tr>\n",
              "    <tr>\n",
              "      <th>7</th>\n",
              "      <td>Val de Cans/Júlio Cezar Ribeiro International ...</td>\n",
              "      <td>Belem</td>\n",
              "      <td>BEL</td>\n",
              "      <td>SBBE</td>\n",
              "      <td>-1.379250</td>\n",
              "      <td>-48.476299</td>\n",
              "    </tr>\n",
              "    <tr>\n",
              "      <th>8</th>\n",
              "      <td>Comandante Gustavo Kraemer Airport</td>\n",
              "      <td>Bage</td>\n",
              "      <td>BGX</td>\n",
              "      <td>SBBG</td>\n",
              "      <td>-31.390499</td>\n",
              "      <td>-54.112202</td>\n",
              "    </tr>\n",
              "    <tr>\n",
              "      <th>9</th>\n",
              "      <td>Pampulha - Carlos Drummond de Andrade Airport</td>\n",
              "      <td>Belo Horizonte</td>\n",
              "      <td>PLU</td>\n",
              "      <td>SBBH</td>\n",
              "      <td>-19.851200</td>\n",
              "      <td>-43.950600</td>\n",
              "    </tr>\n",
              "    <tr>\n",
              "      <th>10</th>\n",
              "      <td>Bacacheri Airport</td>\n",
              "      <td>Curitiba</td>\n",
              "      <td>BFH</td>\n",
              "      <td>SBBI</td>\n",
              "      <td>-25.405100</td>\n",
              "      <td>-49.231998</td>\n",
              "    </tr>\n",
              "  </tbody>\n",
              "</table>\n",
              "</div>"
            ],
            "text/plain": [
              "                                          AirportName  ...  Longitude\n",
              "0                       Conceição do Araguaia Airport  ... -49.301498\n",
              "1                Campo Délio Jardim de Mattos Airport  ... -43.384701\n",
              "3                                  Araraquara Airport  ... -48.132999\n",
              "4                                 Santa Maria Airport  ... -37.070301\n",
              "5                 Piloto Osvaldo Marques Dias Airport  ... -56.105000\n",
              "6                                   Araçatuba Airport  ... -50.424702\n",
              "7   Val de Cans/Júlio Cezar Ribeiro International ...  ... -48.476299\n",
              "8                  Comandante Gustavo Kraemer Airport  ... -54.112202\n",
              "9       Pampulha - Carlos Drummond de Andrade Airport  ... -43.950600\n",
              "10                                  Bacacheri Airport  ... -49.231998\n",
              "\n",
              "[10 rows x 6 columns]"
            ]
          },
          "metadata": {
            "tags": []
          },
          "execution_count": 5
        }
      ]
    },
    {
      "cell_type": "code",
      "metadata": {
        "colab": {
          "base_uri": "https://localhost:8080/"
        },
        "id": "1CsolT82npw_",
        "outputId": "d864a36f-0674-42eb-bbb6-45d77172ec97"
      },
      "source": [
        "len(country_airports)"
      ],
      "execution_count": 6,
      "outputs": [
        {
          "output_type": "execute_result",
          "data": {
            "text/plain": [
              "211"
            ]
          },
          "metadata": {
            "tags": []
          },
          "execution_count": 6
        }
      ]
    },
    {
      "cell_type": "markdown",
      "metadata": {
        "id": "lzTmAuHEuZcs"
      },
      "source": [
        "Now let's work with the routes dataset.\n",
        "\n",
        "First, we must filter the useful information and label them."
      ]
    },
    {
      "cell_type": "code",
      "metadata": {
        "colab": {
          "base_uri": "https://localhost:8080/",
          "height": 351
        },
        "id": "L_B3JFCqtcWW",
        "outputId": "4eb4235f-82ee-4354-9ec1-fa2ada57c9ec"
      },
      "source": [
        "routes = routes[[2,4]].rename(columns={2: \"SourceAirportCode\", 4: \"DestinationAirportCode\"})\n",
        "routes.head(10)"
      ],
      "execution_count": 7,
      "outputs": [
        {
          "output_type": "execute_result",
          "data": {
            "text/html": [
              "<div>\n",
              "<style scoped>\n",
              "    .dataframe tbody tr th:only-of-type {\n",
              "        vertical-align: middle;\n",
              "    }\n",
              "\n",
              "    .dataframe tbody tr th {\n",
              "        vertical-align: top;\n",
              "    }\n",
              "\n",
              "    .dataframe thead th {\n",
              "        text-align: right;\n",
              "    }\n",
              "</style>\n",
              "<table border=\"1\" class=\"dataframe\">\n",
              "  <thead>\n",
              "    <tr style=\"text-align: right;\">\n",
              "      <th></th>\n",
              "      <th>SourceAirportCode</th>\n",
              "      <th>DestinationAirportCode</th>\n",
              "    </tr>\n",
              "  </thead>\n",
              "  <tbody>\n",
              "    <tr>\n",
              "      <th>0</th>\n",
              "      <td>AER</td>\n",
              "      <td>KZN</td>\n",
              "    </tr>\n",
              "    <tr>\n",
              "      <th>1</th>\n",
              "      <td>ASF</td>\n",
              "      <td>KZN</td>\n",
              "    </tr>\n",
              "    <tr>\n",
              "      <th>2</th>\n",
              "      <td>ASF</td>\n",
              "      <td>MRV</td>\n",
              "    </tr>\n",
              "    <tr>\n",
              "      <th>3</th>\n",
              "      <td>CEK</td>\n",
              "      <td>KZN</td>\n",
              "    </tr>\n",
              "    <tr>\n",
              "      <th>4</th>\n",
              "      <td>CEK</td>\n",
              "      <td>OVB</td>\n",
              "    </tr>\n",
              "    <tr>\n",
              "      <th>5</th>\n",
              "      <td>DME</td>\n",
              "      <td>KZN</td>\n",
              "    </tr>\n",
              "    <tr>\n",
              "      <th>6</th>\n",
              "      <td>DME</td>\n",
              "      <td>NBC</td>\n",
              "    </tr>\n",
              "    <tr>\n",
              "      <th>7</th>\n",
              "      <td>DME</td>\n",
              "      <td>TGK</td>\n",
              "    </tr>\n",
              "    <tr>\n",
              "      <th>8</th>\n",
              "      <td>DME</td>\n",
              "      <td>UUA</td>\n",
              "    </tr>\n",
              "    <tr>\n",
              "      <th>9</th>\n",
              "      <td>EGO</td>\n",
              "      <td>KGD</td>\n",
              "    </tr>\n",
              "  </tbody>\n",
              "</table>\n",
              "</div>"
            ],
            "text/plain": [
              "  SourceAirportCode DestinationAirportCode\n",
              "0               AER                    KZN\n",
              "1               ASF                    KZN\n",
              "2               ASF                    MRV\n",
              "3               CEK                    KZN\n",
              "4               CEK                    OVB\n",
              "5               DME                    KZN\n",
              "6               DME                    NBC\n",
              "7               DME                    TGK\n",
              "8               DME                    UUA\n",
              "9               EGO                    KGD"
            ]
          },
          "metadata": {
            "tags": []
          },
          "execution_count": 7
        }
      ]
    },
    {
      "cell_type": "markdown",
      "metadata": {
        "id": "ccKwa94Drw12"
      },
      "source": [
        "To build a graph with only the routes of the chosen country, we will check if the routes have the **SourceAirportCode** and **DestinationAirportCode** in common with the information inside the *country_airports* DataFrame. \n",
        "\n",
        "Besides, we will also use the *drop_duplicates* function because the original dataset also considers the airlines that performs the route, which can result in dupplicate data."
      ]
    },
    {
      "cell_type": "code",
      "metadata": {
        "colab": {
          "base_uri": "https://localhost:8080/",
          "height": 351
        },
        "id": "_MjTVD9F4g-b",
        "outputId": "ed7d05ab-bd4a-4b8e-a7d0-e1f912005c00"
      },
      "source": [
        "country_routes = routes[(routes.SourceAirportCode.isin(country_airports.IATA)) & (routes.DestinationAirportCode.isin(country_airports.IATA))].drop_duplicates().reset_index(drop=True)\n",
        "country_routes.head(10)"
      ],
      "execution_count": 8,
      "outputs": [
        {
          "output_type": "execute_result",
          "data": {
            "text/html": [
              "<div>\n",
              "<style scoped>\n",
              "    .dataframe tbody tr th:only-of-type {\n",
              "        vertical-align: middle;\n",
              "    }\n",
              "\n",
              "    .dataframe tbody tr th {\n",
              "        vertical-align: top;\n",
              "    }\n",
              "\n",
              "    .dataframe thead th {\n",
              "        text-align: right;\n",
              "    }\n",
              "</style>\n",
              "<table border=\"1\" class=\"dataframe\">\n",
              "  <thead>\n",
              "    <tr style=\"text-align: right;\">\n",
              "      <th></th>\n",
              "      <th>SourceAirportCode</th>\n",
              "      <th>DestinationAirportCode</th>\n",
              "    </tr>\n",
              "  </thead>\n",
              "  <tbody>\n",
              "    <tr>\n",
              "      <th>0</th>\n",
              "      <td>AUX</td>\n",
              "      <td>PMW</td>\n",
              "    </tr>\n",
              "    <tr>\n",
              "      <th>1</th>\n",
              "      <td>BRA</td>\n",
              "      <td>BSB</td>\n",
              "    </tr>\n",
              "    <tr>\n",
              "      <th>2</th>\n",
              "      <td>BRA</td>\n",
              "      <td>SSA</td>\n",
              "    </tr>\n",
              "    <tr>\n",
              "      <th>3</th>\n",
              "      <td>BSB</td>\n",
              "      <td>BRA</td>\n",
              "    </tr>\n",
              "    <tr>\n",
              "      <th>4</th>\n",
              "      <td>BSB</td>\n",
              "      <td>OPS</td>\n",
              "    </tr>\n",
              "    <tr>\n",
              "      <th>5</th>\n",
              "      <td>BSB</td>\n",
              "      <td>RAO</td>\n",
              "    </tr>\n",
              "    <tr>\n",
              "      <th>6</th>\n",
              "      <td>CAC</td>\n",
              "      <td>GRU</td>\n",
              "    </tr>\n",
              "    <tr>\n",
              "      <th>7</th>\n",
              "      <td>CGB</td>\n",
              "      <td>GYN</td>\n",
              "    </tr>\n",
              "    <tr>\n",
              "      <th>8</th>\n",
              "      <td>CGB</td>\n",
              "      <td>OPS</td>\n",
              "    </tr>\n",
              "    <tr>\n",
              "      <th>9</th>\n",
              "      <td>CGR</td>\n",
              "      <td>DOU</td>\n",
              "    </tr>\n",
              "  </tbody>\n",
              "</table>\n",
              "</div>"
            ],
            "text/plain": [
              "  SourceAirportCode DestinationAirportCode\n",
              "0               AUX                    PMW\n",
              "1               BRA                    BSB\n",
              "2               BRA                    SSA\n",
              "3               BSB                    BRA\n",
              "4               BSB                    OPS\n",
              "5               BSB                    RAO\n",
              "6               CAC                    GRU\n",
              "7               CGB                    GYN\n",
              "8               CGB                    OPS\n",
              "9               CGR                    DOU"
            ]
          },
          "metadata": {
            "tags": []
          },
          "execution_count": 8
        }
      ]
    },
    {
      "cell_type": "code",
      "metadata": {
        "colab": {
          "base_uri": "https://localhost:8080/"
        },
        "id": "el0uIkDvxuZZ",
        "outputId": "dec37148-acff-4e95-db5b-6b49c5968d53"
      },
      "source": [
        "len(country_routes)"
      ],
      "execution_count": 9,
      "outputs": [
        {
          "output_type": "execute_result",
          "data": {
            "text/plain": [
              "710"
            ]
          },
          "metadata": {
            "tags": []
          },
          "execution_count": 9
        }
      ]
    },
    {
      "cell_type": "markdown",
      "metadata": {
        "id": "Oe-z04rDJ-PL"
      },
      "source": [
        "To see all the routes from a specific Source Airport, you can change the *SourceAirportCode* variable below and run the cell."
      ]
    },
    {
      "cell_type": "code",
      "metadata": {
        "colab": {
          "base_uri": "https://localhost:8080/"
        },
        "id": "ZemQtHBbuqx3",
        "outputId": "b81e3dae-8791-41f8-957c-f10bf25d0f23"
      },
      "source": [
        "SourceAirportCode = \"GRU\"\n",
        "\n",
        "for index, route in country_routes.iterrows():\n",
        "  if(route[\"SourceAirportCode\"] == SourceAirportCode):\n",
        "    print(route[\"SourceAirportCode\"], route[\"DestinationAirportCode\"])"
      ],
      "execution_count": 10,
      "outputs": [
        {
          "output_type": "stream",
          "text": [
            "GRU CAC\n",
            "GRU DOU\n",
            "GRU RAO\n",
            "GRU UBA\n",
            "GRU UDI\n",
            "GRU VDC\n",
            "GRU ARU\n",
            "GRU BSB\n",
            "GRU CGB\n",
            "GRU CGR\n",
            "GRU CNF\n",
            "GRU CWB\n",
            "GRU GYN\n",
            "GRU IOS\n",
            "GRU IPN\n",
            "GRU NVT\n",
            "GRU PLU\n",
            "GRU POA\n",
            "GRU REC\n",
            "GRU SDU\n",
            "GRU SSA\n",
            "GRU AJU\n",
            "GRU BEL\n",
            "GRU BPS\n",
            "GRU FLN\n",
            "GRU FOR\n",
            "GRU GIG\n",
            "GRU IGU\n",
            "GRU JPA\n",
            "GRU LDB\n",
            "GRU MAO\n",
            "GRU MCZ\n",
            "GRU MGF\n",
            "GRU NAT\n",
            "GRU SLZ\n",
            "GRU THE\n",
            "GRU VIX\n",
            "GRU JOI\n",
            "GRU SJP\n",
            "GRU JDO\n",
            "GRU PFB\n"
          ],
          "name": "stdout"
        }
      ]
    },
    {
      "cell_type": "markdown",
      "metadata": {
        "id": "yqgsQy9ZhqrQ"
      },
      "source": [
        "#2. Creating Networkx Graph"
      ]
    },
    {
      "cell_type": "code",
      "metadata": {
        "colab": {
          "base_uri": "https://localhost:8080/",
          "height": 35
        },
        "id": "YZgKiW8Vhwl-",
        "outputId": "768abc0c-5d36-4d80-ae9e-3ac37784b2d2"
      },
      "source": [
        "import networkx as nx\n",
        "nx.__version__"
      ],
      "execution_count": 11,
      "outputs": [
        {
          "output_type": "execute_result",
          "data": {
            "application/vnd.google.colaboratory.intrinsic+json": {
              "type": "string"
            },
            "text/plain": [
              "'2.5.1'"
            ]
          },
          "metadata": {
            "tags": []
          },
          "execution_count": 11
        }
      ]
    },
    {
      "cell_type": "markdown",
      "metadata": {
        "id": "ojWltNyhiASE"
      },
      "source": [
        "Now, we will create the Graph object using the *country_routes* pandas Dataframe and set the attributes of each node based on the *country_airports*"
      ]
    },
    {
      "cell_type": "code",
      "metadata": {
        "colab": {
          "base_uri": "https://localhost:8080/"
        },
        "id": "ts0eGOkyh8_e",
        "outputId": "59626e5f-5871-416b-c0cb-22517d8ba07a"
      },
      "source": [
        "G = nx.from_pandas_edgelist(country_routes, source='SourceAirportCode', target='DestinationAirportCode')\n",
        "nx.set_node_attributes(G, country_airports.set_index('IATA').to_dict('index'))\n",
        "print(nx.info(G))"
      ],
      "execution_count": 12,
      "outputs": [
        {
          "output_type": "stream",
          "text": [
            "Name: \n",
            "Type: Graph\n",
            "Number of nodes: 124\n",
            "Number of edges: 370\n",
            "Average degree:   5.9677\n"
          ],
          "name": "stdout"
        }
      ]
    },
    {
      "cell_type": "code",
      "metadata": {
        "colab": {
          "base_uri": "https://localhost:8080/"
        },
        "id": "rBi-UDOTv5al",
        "outputId": "8d8c00f7-0700-42c1-88b2-6b5529895f0b"
      },
      "source": [
        "G.nodes['NAT']"
      ],
      "execution_count": 13,
      "outputs": [
        {
          "output_type": "execute_result",
          "data": {
            "text/plain": [
              "{'AirportName': 'Governador Aluízio Alves International Airport',\n",
              " 'City': 'Natal',\n",
              " 'ICAO': 'SBSG',\n",
              " 'Latitude': -5.768056,\n",
              " 'Longitude': -35.376111}"
            ]
          },
          "metadata": {
            "tags": []
          },
          "execution_count": 13
        }
      ]
    },
    {
      "cell_type": "code",
      "metadata": {
        "colab": {
          "base_uri": "https://localhost:8080/"
        },
        "id": "mQ_8U9-vxrz1",
        "outputId": "c1c03845-663d-4414-96cb-d65fdca26547"
      },
      "source": [
        "G.edges('NAT')"
      ],
      "execution_count": 14,
      "outputs": [
        {
          "output_type": "execute_result",
          "data": {
            "text/plain": [
              "EdgeDataView([('NAT', 'FEN'), ('NAT', 'FOR'), ('NAT', 'CNF'), ('NAT', 'REC'), ('NAT', 'VCP'), ('NAT', 'BSB'), ('NAT', 'GIG'), ('NAT', 'GRU'), ('NAT', 'SSA')])"
            ]
          },
          "metadata": {
            "tags": []
          },
          "execution_count": 14
        }
      ]
    },
    {
      "cell_type": "markdown",
      "metadata": {
        "id": "wmhEXbd9x96H"
      },
      "source": [
        "#3. Exercises"
      ]
    },
    {
      "cell_type": "markdown",
      "metadata": {
        "id": "k38NQiFxyVtk"
      },
      "source": [
        "## 3.1 - Is there a direct flight between Natal (NAT) and Foz do Iguaçu (IGU)? A direct flight is one with no intermediate stops."
      ]
    },
    {
      "cell_type": "code",
      "metadata": {
        "colab": {
          "base_uri": "https://localhost:8080/"
        },
        "id": "o4tII0Cbyt5e",
        "outputId": "50afccc1-04cc-4c08-cafb-ea8b7e9c3861"
      },
      "source": [
        "\"NAT\" in list(nx.neighbors(G, \"IGU\"))"
      ],
      "execution_count": 15,
      "outputs": [
        {
          "output_type": "execute_result",
          "data": {
            "text/plain": [
              "False"
            ]
          },
          "metadata": {
            "tags": []
          },
          "execution_count": 15
        }
      ]
    },
    {
      "cell_type": "code",
      "metadata": {
        "colab": {
          "base_uri": "https://localhost:8080/"
        },
        "id": "awYwZgus09mT",
        "outputId": "ba242d55-d2ae-46d7-a23e-a2597fdba89b"
      },
      "source": [
        "\"IGU\" in list(nx.neighbors(G, \"NAT\"))"
      ],
      "execution_count": 16,
      "outputs": [
        {
          "output_type": "execute_result",
          "data": {
            "text/plain": [
              "False"
            ]
          },
          "metadata": {
            "tags": []
          },
          "execution_count": 16
        }
      ]
    },
    {
      "cell_type": "markdown",
      "metadata": {
        "id": "ZPQAOSxSyzmF"
      },
      "source": [
        "##3.2 - If you wanted to fly from Natal to Foz do Iguaçu, what would be an itinerary with the fewest number of flights?"
      ]
    },
    {
      "cell_type": "code",
      "metadata": {
        "colab": {
          "base_uri": "https://localhost:8080/"
        },
        "id": "FmMBUPNHzDsX",
        "outputId": "d4a126f4-d920-4228-a142-01629a70955c"
      },
      "source": [
        "nx.shortest_path(G, \"NAT\", \"IGU\")"
      ],
      "execution_count": 17,
      "outputs": [
        {
          "output_type": "execute_result",
          "data": {
            "text/plain": [
              "['NAT', 'VCP', 'IGU']"
            ]
          },
          "metadata": {
            "tags": []
          },
          "execution_count": 17
        }
      ]
    },
    {
      "cell_type": "code",
      "metadata": {
        "colab": {
          "base_uri": "https://localhost:8080/"
        },
        "id": "rB_J0FWC1U7t",
        "outputId": "a0c40dee-33f3-4aee-fd03-a98640acea88"
      },
      "source": [
        "nx.shortest_path_length(G, \"NAT\", \"IGU\")"
      ],
      "execution_count": 18,
      "outputs": [
        {
          "output_type": "execute_result",
          "data": {
            "text/plain": [
              "2"
            ]
          },
          "metadata": {
            "tags": []
          },
          "execution_count": 18
        }
      ]
    },
    {
      "cell_type": "markdown",
      "metadata": {
        "id": "YTpJHbVx0G53"
      },
      "source": [
        "##3.3 - Is it possible to travel from any airport in Brazil to any other airport in Brazil, possibly using connecting flights? In other words, does there exist a path in the network between every possible pair of airports?"
      ]
    },
    {
      "cell_type": "code",
      "metadata": {
        "colab": {
          "base_uri": "https://localhost:8080/"
        },
        "id": "Owzolf150PyJ",
        "outputId": "6408f56c-00d3-4d55-f67c-65d389d1b024"
      },
      "source": [
        "nx.is_connected(G)"
      ],
      "execution_count": 19,
      "outputs": [
        {
          "output_type": "execute_result",
          "data": {
            "text/plain": [
              "True"
            ]
          },
          "metadata": {
            "tags": []
          },
          "execution_count": 19
        }
      ]
    },
    {
      "cell_type": "markdown",
      "metadata": {
        "id": "HmHGUlVT3RUs"
      },
      "source": [
        "*PS: The graph was constructed based on the connections between the airports and **NOT** the TOTAL number of airports. Therefore, there are airports that are not represented in the graph (the ones that do not connect with any other).*"
      ]
    },
    {
      "cell_type": "markdown",
      "metadata": {
        "id": "Y36Cm4v_wdqV"
      },
      "source": [
        "#4 Bonus\n",
        "\n",
        "Drawing the graph connections using the latitude and longitude values."
      ]
    },
    {
      "cell_type": "code",
      "metadata": {
        "colab": {
          "base_uri": "https://localhost:8080/"
        },
        "id": "o2-slN4g5EHh",
        "outputId": "bc359dd4-7e3f-4468-bd9b-4c7cdc130c33"
      },
      "source": [
        "!pip install nxviz"
      ],
      "execution_count": 20,
      "outputs": [
        {
          "output_type": "stream",
          "text": [
            "Requirement already satisfied: nxviz in /usr/local/lib/python3.7/dist-packages (0.6.3)\n",
            "Requirement already satisfied: matplotlib>=3.3.3 in /usr/local/lib/python3.7/dist-packages (from nxviz) (3.4.2)\n",
            "Requirement already satisfied: seaborn>=0.11.1 in /usr/local/lib/python3.7/dist-packages (from nxviz) (0.11.1)\n",
            "Requirement already satisfied: numpy>=1.19.4 in /usr/local/lib/python3.7/dist-packages (from nxviz) (1.19.5)\n",
            "Requirement already satisfied: more-itertools>=8.6.0 in /usr/local/lib/python3.7/dist-packages (from nxviz) (8.8.0)\n",
            "Requirement already satisfied: palettable>=3.3.0 in /usr/local/lib/python3.7/dist-packages (from nxviz) (3.3.0)\n",
            "Requirement already satisfied: pandas>=1.2.0 in /usr/local/lib/python3.7/dist-packages (from nxviz) (1.3.0)\n",
            "Requirement already satisfied: networkx>=2.5 in /usr/local/lib/python3.7/dist-packages (from nxviz) (2.5.1)\n",
            "Requirement already satisfied: pyparsing>=2.2.1 in /usr/local/lib/python3.7/dist-packages (from matplotlib>=3.3.3->nxviz) (2.4.7)\n",
            "Requirement already satisfied: python-dateutil>=2.7 in /usr/local/lib/python3.7/dist-packages (from matplotlib>=3.3.3->nxviz) (2.8.1)\n",
            "Requirement already satisfied: cycler>=0.10 in /usr/local/lib/python3.7/dist-packages (from matplotlib>=3.3.3->nxviz) (0.10.0)\n",
            "Requirement already satisfied: pillow>=6.2.0 in /usr/local/lib/python3.7/dist-packages (from matplotlib>=3.3.3->nxviz) (7.1.2)\n",
            "Requirement already satisfied: kiwisolver>=1.0.1 in /usr/local/lib/python3.7/dist-packages (from matplotlib>=3.3.3->nxviz) (1.3.1)\n",
            "Requirement already satisfied: six in /usr/local/lib/python3.7/dist-packages (from cycler>=0.10->matplotlib>=3.3.3->nxviz) (1.15.0)\n",
            "Requirement already satisfied: decorator<5,>=4.3 in /usr/local/lib/python3.7/dist-packages (from networkx>=2.5->nxviz) (4.4.2)\n",
            "Requirement already satisfied: pytz>=2017.3 in /usr/local/lib/python3.7/dist-packages (from pandas>=1.2.0->nxviz) (2018.9)\n",
            "Requirement already satisfied: scipy>=1.0 in /usr/local/lib/python3.7/dist-packages (from seaborn>=0.11.1->nxviz) (1.4.1)\n"
          ],
          "name": "stdout"
        }
      ]
    },
    {
      "cell_type": "code",
      "metadata": {
        "id": "9cSOABjy36Og"
      },
      "source": [
        "from nxviz import GeoPlot\n",
        "import matplotlib.pyplot as plt"
      ],
      "execution_count": 21,
      "outputs": []
    },
    {
      "cell_type": "code",
      "metadata": {
        "colab": {
          "base_uri": "https://localhost:8080/",
          "height": 317
        },
        "id": "PO1odE4H5YgN",
        "outputId": "68a3e30b-af19-4535-aa64-eb671e7428de"
      },
      "source": [
        "g = GeoPlot(G,\n",
        "            node_lat=\"Latitude\",\n",
        "            node_lon=\"Longitude\",\n",
        "            node_size=0.005)\n",
        "\n",
        "g.draw()\n",
        "plt.show()"
      ],
      "execution_count": 22,
      "outputs": [
        {
          "output_type": "display_data",
          "data": {
            "image/png": "[encoded data removed]",
            "text/plain": [
              "<Figure size 432x432 with 1 Axes>"
            ]
          },
          "metadata": {
            "tags": []
          }
        }
      ]
    }
  ]
}