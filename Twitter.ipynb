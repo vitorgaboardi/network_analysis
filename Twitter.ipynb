{
  "nbformat": 4,
  "nbformat_minor": 0,
  "metadata": {
    "kernelspec": {
      "display_name": "Python 3",
      "language": "python",
      "name": "python3"
    },
    "language_info": {
      "codemirror_mode": {
        "name": "ipython",
        "version": 3
      },
      "file_extension": ".py",
      "mimetype": "text/x-python",
      "name": "python",
      "nbconvert_exporter": "python",
      "pygments_lexer": "ipython3",
      "version": "3.6.5"
    },
    "colab": {
      "name": "Twitter.ipynb",
      "provenance": [],
      "collapsed_sections": [],
      "include_colab_link": true
    }
  },
  "cells": [
    {
      "cell_type": "markdown",
      "metadata": {
        "id": "view-in-github",
        "colab_type": "text"
      },
      "source": [
        "<a href=\"https://colab.research.google.com/github/vitorgaboardi/network_analysis/blob/main/Twitter.ipynb\" target=\"_parent\"><img src=\"https://colab.research.google.com/assets/colab-badge.svg\" alt=\"Open In Colab\"/></a>"
      ]
    },
    {
      "cell_type": "markdown",
      "metadata": {
        "id": "k-9oxa31vS19"
      },
      "source": [
        "# 1.0 Introduction\n"
      ]
    },
    {
      "cell_type": "markdown",
      "metadata": {
        "id": "XCgctKyCKJAd"
      },
      "source": [
        "\n",
        "In this lesson, we use Twitter data to create and explore directed networks of social interactions. For this lesson, we'll be using a developer workflow where we assume you have access to an app's API key and secret (see the slides).\n",
        "\n",
        "\n",
        "Contents:\n",
        "\n",
        "1. Introduction\n",
        "2. Authenticating with Twitter's API\n",
        "3. Using Twitter's search API to get tweets of interest\n",
        "4. Creating social network graphs\n",
        "\n",
        "***Copyright:*** *Parts of the contents of this Colab Notebook, unless otherwise indicated, are Copyright 2020 Filippo Menczer, Santo Fortunato and Clayton A. Davis, [A First Course in Network Science](https://github.com/CambridgeUniversityPress/FirstCourseNetworkScience). All rights reserved.* \n",
        "\n",
        "***References***: getting started with the Twitter API v2 for academic research [here](https://github.com/twitterdev/getting-started-with-the-twitter-api-v2-for-academic-research). "
      ]
    },
    {
      "cell_type": "markdown",
      "metadata": {
        "id": "4Quw1KPPKY4Q"
      },
      "source": [
        "\n",
        "# 2.0 Authenticating with Twitter's API\n"
      ]
    },
    {
      "cell_type": "markdown",
      "metadata": {
        "id": "Rwde_oFGKa6t"
      },
      "source": [
        "\n",
        "Twitter uses OAuth in order to allow third-party apps to access data on your behalf without requiring your Twitter login credentials -- note that none of the code in this notebook asks for your Twitter screen name or password.\n",
        "\n",
        "The OAuth \"dance\" can be intimidating when you first use it, but it provides a far more secure way for software to make requests on your behalf than providing your username and password.\n",
        "\n",
        "We'll make use of the\n",
        "[Twython](https://twython.readthedocs.io/en/latest/usage/starting_out.html#authentication)\n",
        "package to help us with authentication and querying Twitter's APIs."
      ]
    },
    {
      "cell_type": "code",
      "metadata": {
        "id": "nbJfX--XviL-",
        "colab": {
          "base_uri": "https://localhost:8080/"
        },
        "outputId": "0f4276ff-0cad-4e73-958f-b0a6f58f765b"
      },
      "source": [
        "!pip install Twython"
      ],
      "execution_count": 1,
      "outputs": [
        {
          "output_type": "stream",
          "name": "stdout",
          "text": [
            "Collecting Twython\n",
            "  Downloading twython-3.9.1-py3-none-any.whl (33 kB)\n",
            "Requirement already satisfied: requests-oauthlib>=0.4.0 in /usr/local/lib/python3.7/dist-packages (from Twython) (1.3.0)\n",
            "Requirement already satisfied: requests>=2.1.0 in /usr/local/lib/python3.7/dist-packages (from Twython) (2.23.0)\n",
            "Requirement already satisfied: chardet<4,>=3.0.2 in /usr/local/lib/python3.7/dist-packages (from requests>=2.1.0->Twython) (3.0.4)\n",
            "Requirement already satisfied: certifi>=2017.4.17 in /usr/local/lib/python3.7/dist-packages (from requests>=2.1.0->Twython) (2021.5.30)\n",
            "Requirement already satisfied: urllib3!=1.25.0,!=1.25.1,<1.26,>=1.21.1 in /usr/local/lib/python3.7/dist-packages (from requests>=2.1.0->Twython) (1.24.3)\n",
            "Requirement already satisfied: idna<3,>=2.5 in /usr/local/lib/python3.7/dist-packages (from requests>=2.1.0->Twython) (2.10)\n",
            "Requirement already satisfied: oauthlib>=3.0.0 in /usr/local/lib/python3.7/dist-packages (from requests-oauthlib>=0.4.0->Twython) (3.1.1)\n",
            "Installing collected packages: Twython\n",
            "Successfully installed Twython-3.9.1\n"
          ]
        }
      ]
    },
    {
      "cell_type": "code",
      "metadata": {
        "id": "CthaJaXTvS1_"
      },
      "source": [
        "from twython import Twython, TwythonError\n",
        "import pandas as pd"
      ],
      "execution_count": 2,
      "outputs": []
    },
    {
      "cell_type": "markdown",
      "metadata": {
        "id": "S6QBuOCNvS1_"
      },
      "source": [
        "\n",
        "## 2.1 Enter app info and get auth URL\n"
      ]
    },
    {
      "cell_type": "markdown",
      "metadata": {
        "id": "CE7PcDtBX6Hz"
      },
      "source": [
        "\n",
        "In order to authenticate with Twitter, we'll provide the app details and  ask for a one-time authorization URL to authenticate your user with this app.\n",
        "\n",
        "Copy and paste the API key and secret from your Twitter app into a file named <font color=\"red\">keys.txt</font>. The first line is the API_KEY and the second line of the file is API_SECRET_KEY. For example, a template for the <font color=\"red\">keys.txt</font>: \n",
        "\n",
        "```python\n",
        "df6cf09894907b92f3ea749ef\n",
        "d19c40cbb184f72055c806f107b5158d023a43eb7d8921a0d0\n",
        "```"
      ]
    },
    {
      "cell_type": "code",
      "metadata": {
        "id": "lmkWjh8PU_yW"
      },
      "source": [
        "# open the keys file\n",
        "my_file = open(\"keys.txt\", \"r\")\n",
        "\n",
        "# read the raw data\n",
        "content = my_file.read()\n",
        "\n",
        "# split all lines by  newline character\n",
        "API_KEY, API_SECRET_KEY = content.split(\"\\n\")\n",
        "\n",
        "# close the file\n",
        "my_file.close()"
      ],
      "execution_count": null,
      "outputs": []
    },
    {
      "cell_type": "markdown",
      "metadata": {
        "id": "Ir_nhr6HV3Es"
      },
      "source": [
        "Executing the cell should then print out a clickable URL. This link is unique and will work **exactly** once. <font color=\"red\"> Visit this URL, log into Twitter, and then copy the verifier pin that is given to you so as to paste it in the next step</font>."
      ]
    },
    {
      "cell_type": "code",
      "metadata": {
        "id": "2jJCE5A1vS2A",
        "colab": {
          "base_uri": "https://localhost:8080/"
        },
        "outputId": "ad7b74ff-637d-4a5c-c4cf-eef20634c88d"
      },
      "source": [
        "twitter = Twython(API_KEY, API_SECRET_KEY)\n",
        "\n",
        "authentication_tokens = twitter.get_authentication_tokens()\n",
        "print(authentication_tokens['auth_url'])"
      ],
      "execution_count": null,
      "outputs": [
        {
          "output_type": "stream",
          "name": "stdout",
          "text": [
            "https://api.twitter.com/oauth/authenticate?oauth_token=7DhRdAAAAAABTfzIAAABe8Y_kA0\n"
          ]
        }
      ]
    },
    {
      "cell_type": "markdown",
      "metadata": {
        "id": "LAPHhovGvS2B"
      },
      "source": [
        "## 2.2 Authorize app using verifier PIN\n"
      ]
    },
    {
      "cell_type": "markdown",
      "metadata": {
        "id": "hGpriOZJX4Us"
      },
      "source": [
        "\n",
        "That verifier PIN goes into the next cell. This will be different every time you run these steps. The `authentication_tokens` include temporary tokens that go with this verifier PIN; by submitting these together, we show Twitter that we are who we say we are."
      ]
    },
    {
      "cell_type": "code",
      "metadata": {
        "id": "OI9MjTs_vS2B"
      },
      "source": [
        "# Replace the verifier with the pin number obtained with your web browser in the previous step\n",
        "VERIFIER = '5417584'\n",
        "\n",
        "twitter = Twython(API_KEY, API_SECRET_KEY,\n",
        "                  authentication_tokens['oauth_token'],\n",
        "                  authentication_tokens['oauth_token_secret'])\n",
        "\n",
        "authorized_tokens = twitter.get_authorized_tokens(VERIFIER)"
      ],
      "execution_count": null,
      "outputs": []
    },
    {
      "cell_type": "markdown",
      "metadata": {
        "id": "tiDiGGx5X0w-"
      },
      "source": [
        "\n",
        "## 2.3 Use authorized tokens\n"
      ]
    },
    {
      "cell_type": "markdown",
      "metadata": {
        "id": "JWwkYGtMX3Fq"
      },
      "source": [
        "\n",
        "Now we have a permanent token pair that we can use to make authenticated calls to the Twitter API. We'll create a new Twython object using these authenticated keys and verify the credentials of the logged-in user."
      ]
    },
    {
      "cell_type": "code",
      "metadata": {
        "id": "m7n_kesWvS2C"
      },
      "source": [
        "twitter = Twython(API_KEY, API_SECRET_KEY,\n",
        "                  authorized_tokens['oauth_token'],\n",
        "                  authorized_tokens['oauth_token_secret'])\n",
        "\n",
        "twitter.verify_credentials()"
      ],
      "execution_count": null,
      "outputs": []
    },
    {
      "cell_type": "markdown",
      "metadata": {
        "id": "NlWjJc2KvS2C"
      },
      "source": [
        "If the previous cell ran without error and printed out a dict corresponding to a\n",
        "[Twitter User](https://developer.twitter.com/en/docs/tweets/data-dictionary/overview/user-object),\n",
        "then you're good. The authorized token pair is like a username/password and should be protected as such.\n"
      ]
    },
    {
      "cell_type": "markdown",
      "metadata": {
        "id": "ZN7tcAY5vS2E"
      },
      "source": [
        "# 3.0 Using Twitter's search API to get tweets of interest\n"
      ]
    },
    {
      "cell_type": "markdown",
      "metadata": {
        "id": "P79J8-2Bonlm"
      },
      "source": [
        "\n",
        "Twitter's\n",
        "[Search API](https://developer.twitter.com/en/docs/tweets/search/api-reference/get-search-tweets.html)\n",
        "allows you to fetch recent tweets according to a query of keywords, URLs, hashtags, user mentions, etc.\n"
      ]
    },
    {
      "cell_type": "markdown",
      "metadata": {
        "id": "ZGPJSyYtvS2F"
      },
      "source": [
        "According to the [Twitter Documentation](https://developer.twitter.com/en/docs/twitter-api/v1/tweets/search/api-reference/get-search-tweets), the standard student account can have 180 requests considering a 15-min window, where it is possible to get 100 tweets at each request. Thus, we can get up to 18k tweets in a 15-min window (180 x 100 = 18000). If you want to get more than 18k tweets, it is necessary to use a function that waits for another 15 minutes before trying to get another set of 18k tweets.\n",
        "\n",
        "In this notebook, we will build a dataset with 72k tweets, so we will spent 15*4 = 60 minutes to create it. To force the algorithm to wait for 15 minutes, we will use the sleep function.\n"
      ]
    },
    {
      "cell_type": "markdown",
      "metadata": {
        "id": "VkSoQmOQ56n6"
      },
      "source": [
        "In this particular application, we want to analyse the most influence politician or public figure considering the tweets performed on the Brazilian Independence Day (which is in September 7th). To build our network, we will use information considering tweets that have the words **#7DeSetembro** and **Independência**, since both were used many times in the day for different political parties.\n",
        "\n",
        "Thus, the first 36k tweets will be searched considering the word **#7DeSetembro** and the final 36k tweets will be searched considering the word **Independência**. "
      ]
    },
    {
      "cell_type": "markdown",
      "metadata": {
        "id": "VWTJJfH5efUP"
      },
      "source": [
        "To build our database, we will get the following information from the a tweet:\n",
        "* user: Name of the user that made the tweet.\n",
        "* tweet_date: Time that this Tweet was created.\n",
        "* text: The actual UTF-8 text of the status update.\n",
        "* favorite_count: Indicates approximately how many times the Tweet has been liked by Twitter users.\n",
        "* user_tweets_count: The number of Tweets (including retweets) issued by the user.\n",
        "* user_creation: datetime that the user account was created on Twitter.\n",
        "* location:  The user-defined location for this account’s profile.\n",
        "* retweeted: Whether the Tweet is a Retweet.\n",
        "* retweeted_from: User that originally created the Tweet (only if it is a Retweet)\n",
        "* retweet_count: Number of times that the Tweet was Retweeted."
      ]
    },
    {
      "cell_type": "code",
      "metadata": {
        "colab": {
          "base_uri": "https://localhost:8080/"
        },
        "id": "MxKghBeTBKBf",
        "outputId": "a053079a-1af4-4d67-b77a-1d0d6dbda9fc"
      },
      "source": [
        "import pandas as pd\n",
        "import time\n",
        "\n",
        "# Search tweets\n",
        "words = ['#7DeSetembro', 'Independência']\n",
        "types = ['recent','popular']\n",
        "\n",
        "dict_ = {'user': [], 'tweet_date': [], 'text': [], 'favorite_count': [], 'user_tweets_count': [], 'user_creation': [], 'location': [], 'retweeted': [], 'retweeted_from': [], 'retweet_count': []}\n",
        "\n",
        "# Uses the maximum amount of tweets 4 times\n",
        "for i in range(4):\n",
        "  word = words[0] if i < 2 else words[1]          # First 2 iterations will be the first word (#7DeSetembro) and last 2 iterations will be second word ('Independência')\n",
        "  \n",
        "  # Go over the maximum number of requests in a 15-min window\n",
        "  for j in range(180):\n",
        "    result_type = types[1] if j==0 and i%2==0 else types[0]    # Last iteration of each word will consider 100 most popular tweets\n",
        "    max_id = 0 if j<=1 and i%2==0 else max_id                  # Restart the id\n",
        "\n",
        "    # Get tweets:\n",
        "    get_tweets = twitter.search(q=word, count=100, result_type=result_type,until='2021-09-08',max_id = max_id-1)\n",
        "\n",
        "    for tweet in get_tweets['statuses']:\n",
        "      dict_['user'].append(tweet['user']['screen_name'])\n",
        "      dict_['tweet_date'].append(tweet['created_at'])\n",
        "      dict_['text'].append(tweet['text'])\n",
        "      dict_['favorite_count'].append(tweet['favorite_count'])\n",
        "      dict_['retweet_count'].append(tweet['retweet_count'])\n",
        "      dict_['user_tweets_count'].append(tweet['user']['statuses_count'])\n",
        "      dict_['user_creation'].append(tweet['user']['created_at'])\n",
        "      dict_['location'].append(tweet['user']['location'])\n",
        "    \n",
        "      # check whether this tweet is a retweet or not\n",
        "      if 'retweeted_status' in tweet:\n",
        "        dict_['retweeted'].append(True)\n",
        "        dict_['retweeted_from'].append(tweet['retweeted_status']['user']['screen_name'])\n",
        "      else:\n",
        "        dict_['retweeted'].append(False)\n",
        "        dict_['retweeted_from'].append('')\n",
        "\n",
        "    #print(i, j, word, result_type)\n",
        "    max_id = get_tweets['statuses'][-1]['id']\n",
        "\n",
        "  # waits the time for getting the next number of requisitions.\n",
        "  twitter.get_application_rate_limit_status()['resources']['search']\n",
        "  print(i, j, word, result_type)\n",
        "  \n",
        "  if(i < 3):\n",
        "    time.sleep(905)\n",
        "\n",
        "# Structure data in a pandas DataFrame for easier manipulation\n",
        "df = pd.DataFrame(dict_)"
      ],
      "execution_count": null,
      "outputs": [
        {
          "output_type": "stream",
          "name": "stdout",
          "text": [
            "0 179 #7DeSetembro recent\n",
            "1 179 #7DeSetembro recent\n",
            "2 179 Independência recent\n",
            "3 179 Independência recent\n"
          ]
        }
      ]
    },
    {
      "cell_type": "code",
      "metadata": {
        "colab": {
          "base_uri": "https://localhost:8080/",
          "height": 388
        },
        "id": "X6XAUQSAkawt",
        "outputId": "5ea9d229-63fe-48cc-e28d-e5a9e56257f3"
      },
      "source": [
        "df.head(5)"
      ],
      "execution_count": null,
      "outputs": [
        {
          "output_type": "execute_result",
          "data": {
            "text/html": [
              "<div>\n",
              "<style scoped>\n",
              "    .dataframe tbody tr th:only-of-type {\n",
              "        vertical-align: middle;\n",
              "    }\n",
              "\n",
              "    .dataframe tbody tr th {\n",
              "        vertical-align: top;\n",
              "    }\n",
              "\n",
              "    .dataframe thead th {\n",
              "        text-align: right;\n",
              "    }\n",
              "</style>\n",
              "<table border=\"1\" class=\"dataframe\">\n",
              "  <thead>\n",
              "    <tr style=\"text-align: right;\">\n",
              "      <th></th>\n",
              "      <th>user</th>\n",
              "      <th>tweet_date</th>\n",
              "      <th>text</th>\n",
              "      <th>favorite_count</th>\n",
              "      <th>user_tweets_count</th>\n",
              "      <th>user_creation</th>\n",
              "      <th>location</th>\n",
              "      <th>retweeted</th>\n",
              "      <th>retweeted_from</th>\n",
              "      <th>retweet_count</th>\n",
              "    </tr>\n",
              "  </thead>\n",
              "  <tbody>\n",
              "    <tr>\n",
              "      <th>0</th>\n",
              "      <td>BrasiliaUAE</td>\n",
              "      <td>Tue Sep 07 15:04:00 +0000 2021</td>\n",
              "      <td>A Embaixada dos #EAU em Brasília deseja prospe...</td>\n",
              "      <td>11290</td>\n",
              "      <td>1696</td>\n",
              "      <td>Sun Sep 20 20:28:53 +0000 2015</td>\n",
              "      <td>Brasília, DF - Brasil</td>\n",
              "      <td>False</td>\n",
              "      <td></td>\n",
              "      <td>2251</td>\n",
              "    </tr>\n",
              "    <tr>\n",
              "      <th>1</th>\n",
              "      <td>MarinaSilva</td>\n",
              "      <td>Tue Sep 07 14:32:30 +0000 2021</td>\n",
              "      <td>#7desetembro #forabolsonaro https://t.co/bVr1q...</td>\n",
              "      <td>16793</td>\n",
              "      <td>13653</td>\n",
              "      <td>Fri Jan 15 14:33:57 +0000 2010</td>\n",
              "      <td>Brasil</td>\n",
              "      <td>False</td>\n",
              "      <td></td>\n",
              "      <td>2513</td>\n",
              "    </tr>\n",
              "    <tr>\n",
              "      <th>2</th>\n",
              "      <td>randolfeap</td>\n",
              "      <td>Tue Sep 07 13:47:36 +0000 2021</td>\n",
              "      <td>Superaremos esse tempo, página infeliz da noss...</td>\n",
              "      <td>4953</td>\n",
              "      <td>28766</td>\n",
              "      <td>Mon Oct 26 14:29:38 +0000 2009</td>\n",
              "      <td>Amapá, Brasil</td>\n",
              "      <td>False</td>\n",
              "      <td></td>\n",
              "      <td>508</td>\n",
              "    </tr>\n",
              "    <tr>\n",
              "      <th>3</th>\n",
              "      <td>randolfeap</td>\n",
              "      <td>Tue Sep 07 21:13:45 +0000 2021</td>\n",
              "      <td>- Gasolina a R$ 7,00\\n\\n- Kg da carne R$ 50,00...</td>\n",
              "      <td>5125</td>\n",
              "      <td>28766</td>\n",
              "      <td>Mon Oct 26 14:29:38 +0000 2009</td>\n",
              "      <td>Amapá, Brasil</td>\n",
              "      <td>False</td>\n",
              "      <td></td>\n",
              "      <td>559</td>\n",
              "    </tr>\n",
              "    <tr>\n",
              "      <th>4</th>\n",
              "      <td>exercitooficial</td>\n",
              "      <td>Tue Sep 07 10:24:54 +0000 2021</td>\n",
              "      <td>7 de Setembro - #DiadaIndependência do Brasil....</td>\n",
              "      <td>4830</td>\n",
              "      <td>26559</td>\n",
              "      <td>Mon Aug 30 12:31:22 +0000 2010</td>\n",
              "      <td>Brasil</td>\n",
              "      <td>False</td>\n",
              "      <td></td>\n",
              "      <td>1102</td>\n",
              "    </tr>\n",
              "  </tbody>\n",
              "</table>\n",
              "</div>"
            ],
            "text/plain": [
              "              user  ... retweet_count\n",
              "0      BrasiliaUAE  ...          2251\n",
              "1      MarinaSilva  ...          2513\n",
              "2       randolfeap  ...           508\n",
              "3       randolfeap  ...           559\n",
              "4  exercitooficial  ...          1102\n",
              "\n",
              "[5 rows x 10 columns]"
            ]
          },
          "metadata": {},
          "execution_count": 281
        }
      ]
    },
    {
      "cell_type": "markdown",
      "metadata": {
        "id": "Ku25X_DShSKp"
      },
      "source": [
        "The cell below saves the created DataFrame."
      ]
    },
    {
      "cell_type": "code",
      "metadata": {
        "id": "SxoI0crB-8M7"
      },
      "source": [
        "df.to_csv(\"datafra.csv\")"
      ],
      "execution_count": null,
      "outputs": []
    },
    {
      "cell_type": "markdown",
      "metadata": {
        "id": "5ImTBMwphkBu"
      },
      "source": [
        "Finally, the cell below shows the amount of requests that you can still perform within the 15-min window."
      ]
    },
    {
      "cell_type": "code",
      "metadata": {
        "id": "9_H0Eq5DRxUe",
        "colab": {
          "base_uri": "https://localhost:8080/"
        },
        "outputId": "6890cf36-697e-4fae-aac4-95e098b41786"
      },
      "source": [
        "# current limits to followers/list endpoint\n",
        "twitter.get_application_rate_limit_status()['resources'][\"search\"]"
      ],
      "execution_count": null,
      "outputs": [
        {
          "output_type": "execute_result",
          "data": {
            "text/plain": [
              "{'/search/tweets': {'limit': 180, 'remaining': 180, 'reset': 1631144706}}"
            ]
          },
          "metadata": {},
          "execution_count": 272
        }
      ]
    },
    {
      "cell_type": "markdown",
      "metadata": {
        "id": "-Gwmtja_vS2G"
      },
      "source": [
        "# 4.0 Twitter retweet network\n"
      ]
    },
    {
      "cell_type": "markdown",
      "metadata": {
        "id": "usz_Jzv5HsGn"
      },
      "source": [
        "\n",
        "One fundamental interaction in the Twitter ecosystem is the \"retweet\" -- rebroadcasting another user's tweet to your followers. A tweet object returned by the API is a retweet if it includes a `'retweeted_status'`. We're going to fetch tweets matching a hashtag and create a retweet network of the conversation.\n"
      ]
    },
    {
      "cell_type": "markdown",
      "metadata": {
        "id": "RHBM-m1sh0CV"
      },
      "source": [
        "If it is necessary to reload the database, run the cell below."
      ]
    },
    {
      "cell_type": "code",
      "metadata": {
        "id": "kVoLsNJWpjuO"
      },
      "source": [
        "df = pd.read_csv('datafra.csv', index_col=0)"
      ],
      "execution_count": 4,
      "outputs": []
    },
    {
      "cell_type": "code",
      "metadata": {
        "colab": {
          "base_uri": "https://localhost:8080/",
          "height": 388
        },
        "id": "Oglw1-DqqQTU",
        "outputId": "4556f428-cb06-48ce-d214-96605e396b79"
      },
      "source": [
        "df.head()"
      ],
      "execution_count": 5,
      "outputs": [
        {
          "output_type": "execute_result",
          "data": {
            "text/html": [
              "<div>\n",
              "<style scoped>\n",
              "    .dataframe tbody tr th:only-of-type {\n",
              "        vertical-align: middle;\n",
              "    }\n",
              "\n",
              "    .dataframe tbody tr th {\n",
              "        vertical-align: top;\n",
              "    }\n",
              "\n",
              "    .dataframe thead th {\n",
              "        text-align: right;\n",
              "    }\n",
              "</style>\n",
              "<table border=\"1\" class=\"dataframe\">\n",
              "  <thead>\n",
              "    <tr style=\"text-align: right;\">\n",
              "      <th></th>\n",
              "      <th>user</th>\n",
              "      <th>tweet_date</th>\n",
              "      <th>text</th>\n",
              "      <th>favorite_count</th>\n",
              "      <th>user_tweets_count</th>\n",
              "      <th>user_creation</th>\n",
              "      <th>location</th>\n",
              "      <th>retweeted</th>\n",
              "      <th>retweeted_from</th>\n",
              "      <th>retweet_count</th>\n",
              "    </tr>\n",
              "  </thead>\n",
              "  <tbody>\n",
              "    <tr>\n",
              "      <th>0</th>\n",
              "      <td>BrasiliaUAE</td>\n",
              "      <td>Tue Sep 07 15:04:00 +0000 2021</td>\n",
              "      <td>A Embaixada dos #EAU em Brasília deseja prospe...</td>\n",
              "      <td>11290</td>\n",
              "      <td>1696</td>\n",
              "      <td>Sun Sep 20 20:28:53 +0000 2015</td>\n",
              "      <td>Brasília, DF - Brasil</td>\n",
              "      <td>False</td>\n",
              "      <td>NaN</td>\n",
              "      <td>2251</td>\n",
              "    </tr>\n",
              "    <tr>\n",
              "      <th>1</th>\n",
              "      <td>MarinaSilva</td>\n",
              "      <td>Tue Sep 07 14:32:30 +0000 2021</td>\n",
              "      <td>#7desetembro #forabolsonaro https://t.co/bVr1q...</td>\n",
              "      <td>16793</td>\n",
              "      <td>13653</td>\n",
              "      <td>Fri Jan 15 14:33:57 +0000 2010</td>\n",
              "      <td>Brasil</td>\n",
              "      <td>False</td>\n",
              "      <td>NaN</td>\n",
              "      <td>2513</td>\n",
              "    </tr>\n",
              "    <tr>\n",
              "      <th>2</th>\n",
              "      <td>randolfeap</td>\n",
              "      <td>Tue Sep 07 13:47:36 +0000 2021</td>\n",
              "      <td>Superaremos esse tempo, página infeliz da noss...</td>\n",
              "      <td>4953</td>\n",
              "      <td>28766</td>\n",
              "      <td>Mon Oct 26 14:29:38 +0000 2009</td>\n",
              "      <td>Amapá, Brasil</td>\n",
              "      <td>False</td>\n",
              "      <td>NaN</td>\n",
              "      <td>508</td>\n",
              "    </tr>\n",
              "    <tr>\n",
              "      <th>3</th>\n",
              "      <td>randolfeap</td>\n",
              "      <td>Tue Sep 07 21:13:45 +0000 2021</td>\n",
              "      <td>- Gasolina a R$ 7,00\\n\\n- Kg da carne R$ 50,00...</td>\n",
              "      <td>5125</td>\n",
              "      <td>28766</td>\n",
              "      <td>Mon Oct 26 14:29:38 +0000 2009</td>\n",
              "      <td>Amapá, Brasil</td>\n",
              "      <td>False</td>\n",
              "      <td>NaN</td>\n",
              "      <td>559</td>\n",
              "    </tr>\n",
              "    <tr>\n",
              "      <th>4</th>\n",
              "      <td>exercitooficial</td>\n",
              "      <td>Tue Sep 07 10:24:54 +0000 2021</td>\n",
              "      <td>7 de Setembro - #DiadaIndependência do Brasil....</td>\n",
              "      <td>4830</td>\n",
              "      <td>26559</td>\n",
              "      <td>Mon Aug 30 12:31:22 +0000 2010</td>\n",
              "      <td>Brasil</td>\n",
              "      <td>False</td>\n",
              "      <td>NaN</td>\n",
              "      <td>1102</td>\n",
              "    </tr>\n",
              "  </tbody>\n",
              "</table>\n",
              "</div>"
            ],
            "text/plain": [
              "              user  ... retweet_count\n",
              "0      BrasiliaUAE  ...          2251\n",
              "1      MarinaSilva  ...          2513\n",
              "2       randolfeap  ...           508\n",
              "3       randolfeap  ...           559\n",
              "4  exercitooficial  ...          1102\n",
              "\n",
              "[5 rows x 10 columns]"
            ]
          },
          "metadata": {},
          "execution_count": 5
        }
      ]
    },
    {
      "cell_type": "markdown",
      "metadata": {
        "id": "wrW1hGdTO52x"
      },
      "source": [
        "First, we will make a copy of the DataFrame, to make sure all the previous modifications are saved."
      ]
    },
    {
      "cell_type": "code",
      "metadata": {
        "id": "lK6ftZr6HmBS"
      },
      "source": [
        "df_retweet = df.copy()"
      ],
      "execution_count": 6,
      "outputs": []
    },
    {
      "cell_type": "markdown",
      "metadata": {
        "id": "rkfKj57HPKr_"
      },
      "source": [
        "Now, we will filter only the samples where the *retweeted* column is **True**. Also, it is possible that duplicates occurred, so we will drop them."
      ]
    },
    {
      "cell_type": "code",
      "metadata": {
        "id": "Q5uLY6wBHpSf"
      },
      "source": [
        "df_retweet = df_retweet[df_retweet['retweeted'] == True].drop_duplicates()"
      ],
      "execution_count": 7,
      "outputs": []
    },
    {
      "cell_type": "markdown",
      "metadata": {
        "id": "Tp4UUg5ookVF"
      },
      "source": [
        "\n",
        "Each tweet in this list of *df_retweet* represents an edge in our network. <font color='red'>We're going to draw these edges in the direction of information flow</font>: from the retweeted user to the retweeter, the user doing the retweeting. Since a user can retweet another user more than once, we want this graph to be weighted, with the number of retweets as the weight."
      ]
    },
    {
      "cell_type": "code",
      "metadata": {
        "colab": {
          "base_uri": "https://localhost:8080/",
          "height": 505
        },
        "id": "C4emoGUNb0u0",
        "outputId": "310a1d61-0ee6-4ac2-bb22-1a91823926dd"
      },
      "source": [
        "df_retweet.head()"
      ],
      "execution_count": 8,
      "outputs": [
        {
          "output_type": "execute_result",
          "data": {
            "text/html": [
              "<div>\n",
              "<style scoped>\n",
              "    .dataframe tbody tr th:only-of-type {\n",
              "        vertical-align: middle;\n",
              "    }\n",
              "\n",
              "    .dataframe tbody tr th {\n",
              "        vertical-align: top;\n",
              "    }\n",
              "\n",
              "    .dataframe thead th {\n",
              "        text-align: right;\n",
              "    }\n",
              "</style>\n",
              "<table border=\"1\" class=\"dataframe\">\n",
              "  <thead>\n",
              "    <tr style=\"text-align: right;\">\n",
              "      <th></th>\n",
              "      <th>user</th>\n",
              "      <th>tweet_date</th>\n",
              "      <th>text</th>\n",
              "      <th>favorite_count</th>\n",
              "      <th>user_tweets_count</th>\n",
              "      <th>user_creation</th>\n",
              "      <th>location</th>\n",
              "      <th>retweeted</th>\n",
              "      <th>retweeted_from</th>\n",
              "      <th>retweet_count</th>\n",
              "    </tr>\n",
              "  </thead>\n",
              "  <tbody>\n",
              "    <tr>\n",
              "      <th>15</th>\n",
              "      <td>sheilal43605454</td>\n",
              "      <td>Tue Sep 07 23:59:58 +0000 2021</td>\n",
              "      <td>RT @realpfigueiredo: O jornalismo profissional...</td>\n",
              "      <td>0</td>\n",
              "      <td>83518</td>\n",
              "      <td>Thu Jan 23 20:06:40 +0000 2020</td>\n",
              "      <td>NaN</td>\n",
              "      <td>True</td>\n",
              "      <td>realpfigueiredo</td>\n",
              "      <td>3118</td>\n",
              "    </tr>\n",
              "    <tr>\n",
              "      <th>16</th>\n",
              "      <td>GuerreiroDirei1</td>\n",
              "      <td>Tue Sep 07 23:59:57 +0000 2021</td>\n",
              "      <td>RT @SigaGazetaBR: 🤳VC no #7deSetembro- Copacab...</td>\n",
              "      <td>0</td>\n",
              "      <td>8510</td>\n",
              "      <td>Mon Jun 01 00:26:01 +0000 2020</td>\n",
              "      <td>NaN</td>\n",
              "      <td>True</td>\n",
              "      <td>SigaGazetaBR</td>\n",
              "      <td>179</td>\n",
              "    </tr>\n",
              "    <tr>\n",
              "      <th>17</th>\n",
              "      <td>carneiraczs</td>\n",
              "      <td>Tue Sep 07 23:59:57 +0000 2021</td>\n",
              "      <td>RT @falemateus: Sempre bom lembrar. #7DeSetemb...</td>\n",
              "      <td>0</td>\n",
              "      <td>3794</td>\n",
              "      <td>Mon Dec 10 06:42:17 +0000 2018</td>\n",
              "      <td>NaN</td>\n",
              "      <td>True</td>\n",
              "      <td>falemateus</td>\n",
              "      <td>1126</td>\n",
              "    </tr>\n",
              "    <tr>\n",
              "      <th>18</th>\n",
              "      <td>CS20seven</td>\n",
              "      <td>Tue Sep 07 23:59:56 +0000 2021</td>\n",
              "      <td>RT @realpfigueiredo: O jornalismo profissional...</td>\n",
              "      <td>0</td>\n",
              "      <td>7140</td>\n",
              "      <td>Sat May 02 22:35:43 +0000 2020</td>\n",
              "      <td>NaN</td>\n",
              "      <td>True</td>\n",
              "      <td>realpfigueiredo</td>\n",
              "      <td>3118</td>\n",
              "    </tr>\n",
              "    <tr>\n",
              "      <th>19</th>\n",
              "      <td>Mozelli1</td>\n",
              "      <td>Tue Sep 07 23:59:55 +0000 2021</td>\n",
              "      <td>RT @cardoso_boni: No dia 07 de Setembro o PR. ...</td>\n",
              "      <td>0</td>\n",
              "      <td>45417</td>\n",
              "      <td>Sat Jan 02 19:30:22 +0000 2016</td>\n",
              "      <td>RJ</td>\n",
              "      <td>True</td>\n",
              "      <td>cardoso_boni</td>\n",
              "      <td>901</td>\n",
              "    </tr>\n",
              "  </tbody>\n",
              "</table>\n",
              "</div>"
            ],
            "text/plain": [
              "               user  ... retweet_count\n",
              "15  sheilal43605454  ...          3118\n",
              "16  GuerreiroDirei1  ...           179\n",
              "17      carneiraczs  ...          1126\n",
              "18        CS20seven  ...          3118\n",
              "19         Mozelli1  ...           901\n",
              "\n",
              "[5 rows x 10 columns]"
            ]
          },
          "metadata": {},
          "execution_count": 8
        }
      ]
    },
    {
      "cell_type": "code",
      "metadata": {
        "id": "GMNv8RPmvS2G"
      },
      "source": [
        "import networkx as nx\n",
        "from datetime import date\n",
        "\n",
        "month_name_to_number = {'Jan': 1, 'Feb': 2, 'Mar': 3, 'Apr': 4, 'May': 5, 'Jun': 6, 'Jul': 7, 'Aug': 8, 'Sep': 9, 'Oct': 10, 'Nov': 11, 'Dec': 12}\n",
        "year_user_creation = [[], [], []]\n",
        "\n",
        "D = nx.DiGraph()\n",
        "\n",
        "for index, row in df_retweet.iterrows():\n",
        "    retweeted_sn = row['retweeted_from']\n",
        "    retweeter_sn = row['user'] \n",
        "\n",
        "    # Adding an atribute to see if it was retweeted from Lula, Bolsonaro, or else\n",
        "    if retweeted_sn == 'LulaOficial':\n",
        "      if retweeter_sn not in D:\n",
        "        year_user_creation[0].append(year)\n",
        "    elif retweeted_sn == 'jairbolsonaro':\n",
        "      if retweeter_sn not in D:\n",
        "        year_user_creation[1].append(year)\n",
        "    else:\n",
        "      if retweeter_sn not in D:\n",
        "        year_user_creation[2].append(year)\n",
        "    \n",
        "    # Edge direction: retweeted_sn -> retweeter_sn\n",
        "    if D.has_edge(retweeted_sn, retweeter_sn):\n",
        "        D.edges[retweeted_sn, retweeter_sn]['weight'] += 1\n",
        "    else:\n",
        "        D.add_edge(retweeted_sn, retweeter_sn, weight=1)\n",
        "\n",
        "    # Computing days  \n",
        "    user_date_creation = row['user_creation'].split(\" \")\n",
        "    day = int(user_date_creation[2])\n",
        "    month = month_name_to_number[user_date_creation[1]]\n",
        "    year = int(user_date_creation[-1])  \n",
        "\n",
        "    days_user_creation = (date(2021,9,7)-date(year,month,day)).days + 1\n",
        "\n",
        "    # Adding the year that the retweeter_sn created Twitter\n",
        "    #if retweeter_sn not in D:\n",
        "    #  year_user_creation.append(year)\n",
        "\n",
        "    # Creating attributes related to the amount of tweets made\n",
        "    nx.set_node_attributes(D, {retweeter_sn: days_user_creation}, name=\"days_user_creation\")\n",
        "    nx.set_node_attributes(D, {retweeter_sn: row['user_tweets_count']/days_user_creation}, name=\"posts/days_user_creation\")\n",
        "    nx.set_node_attributes(D, {retweeter_sn: row['user_tweets_count']}, name=\"posts\")\n",
        "\n",
        "    # Adding an atribute to see if it was retweeted from Lula, Bolsonaro, or else\n",
        "    if retweeted_sn == 'LulaOficial':\n",
        "      nx.set_node_attributes(D, {retweeter_sn: \"lula\"}, name=\"party\")\n",
        "    elif retweeted_sn == 'jairbolsonaro':\n",
        "      nx.set_node_attributes(D, {retweeter_sn: \"bolsonaro\"}, name=\"party\")\n",
        "    else:\n",
        "      nx.set_node_attributes(D, {retweeter_sn: \"none\"}, name=\"party\")\n"
      ],
      "execution_count": 19,
      "outputs": []
    },
    {
      "cell_type": "markdown",
      "metadata": {
        "id": "tvlB1_x3iCn7"
      },
      "source": [
        "Saving the created Graph using Network X."
      ]
    },
    {
      "cell_type": "code",
      "metadata": {
        "id": "hX__0GBLewlm"
      },
      "source": [
        "nx.write_graphml(D, \"september7.graphml\")"
      ],
      "execution_count": null,
      "outputs": []
    },
    {
      "cell_type": "markdown",
      "metadata": {
        "id": "nX1WmqmOiIVi"
      },
      "source": [
        "Showing information related to a Twitter user."
      ]
    },
    {
      "cell_type": "code",
      "metadata": {
        "colab": {
          "base_uri": "https://localhost:8080/"
        },
        "id": "bbMzPHpNdL70",
        "outputId": "467ffcef-dd90-4553-c17a-34c7b685198b"
      },
      "source": [
        "list(D.in_edges('Claudinha511',data=True))"
      ],
      "execution_count": 10,
      "outputs": [
        {
          "output_type": "execute_result",
          "data": {
            "text/plain": [
              "[('AnaPaulaVolei', 'Claudinha511', {'weight': 1}),\n",
              " ('DefesaGovBr', 'Claudinha511', {'weight': 3}),\n",
              " ('realpfigueiredo', 'Claudinha511', {'weight': 3}),\n",
              " ('MarceloRochaMon', 'Claudinha511', {'weight': 1}),\n",
              " ('SigaGazetaBR', 'Claudinha511', {'weight': 15}),\n",
              " ('CmdoCMP', 'Claudinha511', {'weight': 1}),\n",
              " ('LucianoHangBr', 'Claudinha511', {'weight': 1}),\n",
              " ('allanldsantos', 'Claudinha511', {'weight': 1}),\n",
              " ('zoemartinez_05', 'Claudinha511', {'weight': 1}),\n",
              " ('bernardokuster2', 'Claudinha511', {'weight': 1}),\n",
              " ('JornalBSM', 'Claudinha511', {'weight': 1}),\n",
              " ('mqueiroga2', 'Claudinha511', {'weight': 1})]"
            ]
          },
          "metadata": {},
          "execution_count": 10
        }
      ]
    },
    {
      "cell_type": "markdown",
      "metadata": {
        "id": "acyByTp3vS2G"
      },
      "source": [
        ")The edge addition logic here is to increase the edge weight by 1 if the edge exists, or else create the edge with weight 1 if it does not exist.\n",
        "\n",
        "When writing code such as this that refers multiple times to the same directed edge, make sure to be consistent with the edge direction."
      ]
    },
    {
      "cell_type": "markdown",
      "metadata": {
        "id": "LwU9t4eWvS2G"
      },
      "source": [
        "## 6.1 Analyze graph\n"
      ]
    },
    {
      "cell_type": "markdown",
      "metadata": {
        "id": "uNYZz_oWqEAt"
      },
      "source": [
        "\n",
        "Now that we have this graph, let's ask some questions about it.\n"
      ]
    },
    {
      "cell_type": "markdown",
      "metadata": {
        "id": "m0zcjTTtqKfV"
      },
      "source": [
        "\n",
        "### 6.1.1 Most retweeted user\n"
      ]
    },
    {
      "cell_type": "markdown",
      "metadata": {
        "id": "Ln5awzOeqLT_"
      },
      "source": [
        "\n",
        "Since the edges are in the direction of information flow, out-degree gives us the number of other users retweeting a given user. We can get the user with highest out-degree using the built-in `max` function:"
      ]
    },
    {
      "cell_type": "code",
      "metadata": {
        "id": "ZinSHs6qvS2G",
        "colab": {
          "base_uri": "https://localhost:8080/",
          "height": 35
        },
        "outputId": "046d5717-84f0-48ac-a412-533a79f237cf"
      },
      "source": [
        "max(D.nodes, key=D.out_degree)"
      ],
      "execution_count": 11,
      "outputs": [
        {
          "output_type": "execute_result",
          "data": {
            "application/vnd.google.colaboratory.intrinsic+json": {
              "type": "string"
            },
            "text/plain": [
              "'realpfigueiredo'"
            ]
          },
          "metadata": {},
          "execution_count": 11
        }
      ]
    },
    {
      "cell_type": "markdown",
      "metadata": {
        "id": "ihJcKVtuvS2G"
      },
      "source": [
        "but we can get more context and information from the \"top N\" users:"
      ]
    },
    {
      "cell_type": "code",
      "metadata": {
        "id": "6sSh64DbvS2G",
        "colab": {
          "base_uri": "https://localhost:8080/"
        },
        "outputId": "0b9d1b2b-81a4-4134-ae34-1508642481c8"
      },
      "source": [
        "from operator import itemgetter\n",
        "\n",
        "sorted(D.out_degree(), key=itemgetter(1), reverse=True)[:20]"
      ],
      "execution_count": 12,
      "outputs": [
        {
          "output_type": "execute_result",
          "data": {
            "text/plain": [
              "[('realpfigueiredo', 4110),\n",
              " ('LulaOficial', 3265),\n",
              " ('aramagem', 2799),\n",
              " ('SigaGazetaBR', 1941),\n",
              " ('ErikakHilton', 1867),\n",
              " ('WRosarioCGU', 1729),\n",
              " ('jairbolsonaro', 1710),\n",
              " ('BrasiliaUAE', 1596),\n",
              " ('MarinaSilva', 1546),\n",
              " ('brwninh4', 1300),\n",
              " ('eixopolitico', 1298),\n",
              " ('zoemartinez_05', 934),\n",
              " ('jdoriajr', 857),\n",
              " ('GilDoVigor', 760),\n",
              " ('AnaPaulaVolei', 690),\n",
              " ('falemateus', 682),\n",
              " ('MiguelDiazOK1', 611),\n",
              " ('randolfeap', 540),\n",
              " ('alexandre', 518),\n",
              " ('depheliolopes', 492)]"
            ]
          },
          "metadata": {},
          "execution_count": 12
        }
      ]
    },
    {
      "cell_type": "markdown",
      "metadata": {
        "id": "DKjZUB2RvS2G"
      },
      "source": [
        "In this piece of code, we take advantage of the fact that `D.out_degree()` returns a sequence of `(name, degree)` 2-tuples; specifying `key=itemgetter(1)` tells the `sorted` function to sort these 2-tuples by their value at index 1. Giving `reverse=True` tells the `sorted` function that we want this in descending order, and the `[:5]` at the end slices the first 5 items from the resulting list.\n",
        "\n",
        "However, this is a weighted graph! By default, `out_degree()` ignores the edge weights. We can get out-strength by telling the `out_degree()` function to take into account the edge weight:"
      ]
    },
    {
      "cell_type": "code",
      "metadata": {
        "id": "tFfxTxMBvS2G",
        "colab": {
          "base_uri": "https://localhost:8080/"
        },
        "outputId": "556fc990-aae5-4130-abdb-6860a02ef8fc"
      },
      "source": [
        "sorted(D.out_degree(weight='weight'), key=itemgetter(1), reverse=True)[:20]"
      ],
      "execution_count": 13,
      "outputs": [
        {
          "output_type": "execute_result",
          "data": {
            "text/plain": [
              "[('realpfigueiredo', 5039),\n",
              " ('LulaOficial', 3300),\n",
              " ('SigaGazetaBR', 3048),\n",
              " ('aramagem', 2800),\n",
              " ('ErikakHilton', 2247),\n",
              " ('jairbolsonaro', 1737),\n",
              " ('WRosarioCGU', 1729),\n",
              " ('MarinaSilva', 1609),\n",
              " ('BrasiliaUAE', 1596),\n",
              " ('eixopolitico', 1340),\n",
              " ('brwninh4', 1300),\n",
              " ('zoemartinez_05', 934),\n",
              " ('jdoriajr', 869),\n",
              " ('GilDoVigor', 760),\n",
              " ('AnaPaulaVolei', 690),\n",
              " ('falemateus', 682),\n",
              " ('DefesaGovBr', 643),\n",
              " ('MiguelDiazOK1', 611),\n",
              " ('randolfeap', 553),\n",
              " ('alexandre', 518)]"
            ]
          },
          "metadata": {},
          "execution_count": 13
        }
      ]
    },
    {
      "cell_type": "markdown",
      "metadata": {
        "id": "L6r1o4tFvS2H"
      },
      "source": [
        "In some cases these two results will be the same, namely if none of these users has been retweeted multiple times by the same user. Depending on your use case, you may or may not wish to take the weights into account.\n"
      ]
    },
    {
      "cell_type": "markdown",
      "metadata": {
        "id": "I5txahzgqsF1"
      },
      "source": [
        "*texto em itálico*\n",
        "### 6.4.2 Anomaly detection\n"
      ]
    },
    {
      "cell_type": "markdown",
      "metadata": {
        "id": "qY7B2EqFqt73"
      },
      "source": [
        "\n",
        "One type of social media manipulation involves accounts that create very little original content, instead \"spamming\" retweets of any and all content in a particular conversation. Can we detect any users doing significantly more retweeting than others? Let's look at the top N retweeters:"
      ]
    },
    {
      "cell_type": "code",
      "metadata": {
        "scrolled": true,
        "id": "2YbKCw3PvS2H",
        "colab": {
          "base_uri": "https://localhost:8080/"
        },
        "outputId": "c8829876-f3d3-4222-d75e-bbeb9b27083c"
      },
      "source": [
        "sorted(D.in_degree(weight='weight'), key=itemgetter(1), reverse=True)[:20]"
      ],
      "execution_count": 14,
      "outputs": [
        {
          "output_type": "execute_result",
          "data": {
            "text/plain": [
              "[('Claudinha511', 30),\n",
              " ('dudu_santana05', 30),\n",
              " ('brunoal02852156', 27),\n",
              " ('AleDireita', 25),\n",
              " ('macmachado57', 25),\n",
              " ('OnCorretor', 25),\n",
              " ('Rafinha30378349', 23),\n",
              " ('jldiniz1', 22),\n",
              " ('leotizzo', 21),\n",
              " ('Ihamma_1', 21),\n",
              " ('thomasalgarvio', 21),\n",
              " ('GleisonGilton', 21),\n",
              " ('eu_juuuuh', 21),\n",
              " ('helenoofreire', 20),\n",
              " ('LuizOficialFe25', 20),\n",
              " ('PedroLi41542560', 20),\n",
              " ('MagooMito', 20),\n",
              " ('Patriota38Paulo', 19),\n",
              " ('deivid_lembeck', 19),\n",
              " ('EDERSON70039945', 19)]"
            ]
          },
          "metadata": {},
          "execution_count": 14
        }
      ]
    },
    {
      "cell_type": "markdown",
      "metadata": {
        "id": "PHA0QF5njX2B"
      },
      "source": [
        "### 6.4.3 Bot detection"
      ]
    },
    {
      "cell_type": "code",
      "metadata": {
        "colab": {
          "base_uri": "https://localhost:8080/"
        },
        "id": "soA48UPAhk29",
        "outputId": "9a4ad0e9-d118-4581-be56-b8966f33c92d"
      },
      "source": [
        "sorted(D.nodes(data='posts/days_user_creation'), key = lambda x: (x[1] is not None, x[1]), reverse=True)[:20]"
      ],
      "execution_count": 15,
      "outputs": [
        {
          "output_type": "execute_result",
          "data": {
            "text/plain": [
              "[('BrisaBot', 2206.7221206581353),\n",
              " ('uai_bot', 2109.4151515151516),\n",
              " ('TheDeveloperBot', 1762.173828125),\n",
              " ('CaraioBot', 1704.3630434782608),\n",
              " ('CarlaoBot', 1442.1832298136646),\n",
              " ('sarah052794', 1412.7054582904223),\n",
              " ('internacionalzp', 1314.4418604651162),\n",
              " ('macaquinho_bot', 1234.3992606284658),\n",
              " ('corinthianszip', 1195.7777777777778),\n",
              " ('vascozip', 1078.5229357798164),\n",
              " ('JampaRobo', 931.2257462686567),\n",
              " ('odio_nao', 898.3236034222446),\n",
              " ('Kyle89156297', 892.9512195121952),\n",
              " ('wagnerbonoro', 862.0),\n",
              " ('dogandwinelover', 832.9779944986246),\n",
              " ('Srgio45860350', 821.5),\n",
              " ('IndieAoba', 784.7627118644068),\n",
              " ('atleticozip', 765.3604651162791),\n",
              " ('Leonor59421694', 763.7705882352941),\n",
              " ('Lucas07071983', 763.0)]"
            ]
          },
          "metadata": {},
          "execution_count": 15
        }
      ]
    },
    {
      "cell_type": "markdown",
      "metadata": {
        "id": "RgZaEDImg8HG"
      },
      "source": [
        "# 6.4.3 Data Creation"
      ]
    },
    {
      "cell_type": "code",
      "metadata": {
        "colab": {
          "base_uri": "https://localhost:8080/",
          "height": 334
        },
        "id": "59nR5Kxbg_sb",
        "outputId": "eda9535f-1312-4958-c8a2-89a4689f6cbc"
      },
      "source": [
        "import numpy as np\n",
        "import matplotlib.pyplot as plt\n",
        "\n",
        "bins = [2008,2009,2010,2011,2012,2013,2014,2015,2016,2017,2018,2019,2020,2021]\n",
        "\n",
        "plt.hist(year_user_creation, stacked=True,bins=bins)\n",
        "plt.legend([\"Lula\", \"Bolsonaro\", \"Nenhum\"],loc='upper left')\n",
        "plt.ylabel(\"Quantidade\")\n",
        "plt.xlabel(\"Ano em que as contas foram criadas\")\n",
        "plt.show()"
      ],
      "execution_count": 31,
      "outputs": [
        {
          "output_type": "stream",
          "name": "stderr",
          "text": [
            "/usr/local/lib/python3.7/dist-packages/numpy/core/_asarray.py:83: VisibleDeprecationWarning: Creating an ndarray from ragged nested sequences (which is a list-or-tuple of lists-or-tuples-or ndarrays with different lengths or shapes) is deprecated. If you meant to do this, you must specify 'dtype=object' when creating the ndarray\n",
            "  return array(a, dtype, copy=False, order=order)\n"
          ]
        },
        {
          "output_type": "display_data",
          "data": {
            "image/png": "[encoded data removed]",
            "text/plain": [
              "<Figure size 432x288 with 1 Axes>"
            ]
          },
          "metadata": {
            "needs_background": "light"
          }
        }
      ]
    }
  ]
}